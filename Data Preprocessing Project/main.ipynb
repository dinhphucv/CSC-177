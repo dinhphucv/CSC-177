{
 "cells": [
  {
   "cell_type": "markdown",
   "metadata": {
    "id": "no_NRmY_bqnI"
   },
   "source": [
    "# Data Preprocessing Project"
   ]
  },
  {
   "cell_type": "markdown",
   "metadata": {
    "id": "ODJPNH54bqnM"
   },
   "source": [
    "## Team members"
   ]
  },
  {
   "cell_type": "markdown",
   "metadata": {
    "id": "wFRBazcOWzbT"
   },
   "source": [
    "Phuc Dinh\\\n",
    "Brian Shao\\\n",
    "Steven Ho\\\n",
    "Alex Souv\\\n",
    "Navteg Khalsa\\\n",
    "Moshley Marcelo"
   ]
  },
  {
   "cell_type": "markdown",
   "metadata": {
    "id": "E8efB2qFbqnM"
   },
   "source": [
    "## Import required modules"
   ]
  },
  {
   "cell_type": "code",
   "execution_count": 1,
   "metadata": {
    "executionInfo": {
     "elapsed": 142,
     "status": "ok",
     "timestamp": 1697003261069,
     "user": {
      "displayName": "Phuc Dinh",
      "userId": "07487910869990873810"
     },
     "user_tz": 420
    },
    "id": "aCfGqjbMbqnM"
   },
   "outputs": [],
   "source": [
    "from scipy.stats import zscore\n",
    "from sklearn.model_selection import train_test_split\n",
    "from sklearn.preprocessing import MinMaxScaler\n",
    "import numpy as np\n",
    "import pandas as pd"
   ]
  },
  {
   "cell_type": "markdown",
   "metadata": {
    "id": "nOBMGCEnbqnO"
   },
   "source": [
    "## Data Preprocessing"
   ]
  },
  {
   "cell_type": "markdown",
   "metadata": {
    "id": "NveC8PbH8EMA"
   },
   "source": [
    "### Dataset 1 (London Air)\n",
    "In this dataset, we use these techniques: dropping fields, removing rows with missing values"
   ]
  },
  {
   "cell_type": "markdown",
   "metadata": {
    "id": "F1Qkatms-2a9"
   },
   "source": [
    "#### Import data"
   ]
  },
  {
   "cell_type": "code",
   "execution_count": 2,
   "metadata": {
    "executionInfo": {
     "elapsed": 436,
     "status": "ok",
     "timestamp": 1696997814356,
     "user": {
      "displayName": "Phuc Dinh",
      "userId": "07487910869990873810"
     },
     "user_tz": 420
    },
    "id": "gVmrQ__z-1kX"
   },
   "outputs": [],
   "source": [
    "laqndata = pd.read_csv('https://raw.githubusercontent.com/dinhphucv/CSC-177/main/Data%20Preprocessing%20Project/data/LaqnData.csv')"
   ]
  },
  {
   "cell_type": "code",
   "execution_count": 3,
   "metadata": {
    "colab": {
     "base_uri": "https://localhost:8080/",
     "height": 206
    },
    "executionInfo": {
     "elapsed": 207,
     "status": "ok",
     "timestamp": 1696997815295,
     "user": {
      "displayName": "Phuc Dinh",
      "userId": "07487910869990873810"
     },
     "user_tz": 420
    },
    "id": "C0P_F4YzKa2q",
    "outputId": "138a1279-606f-425f-96f2-6bf45e4fbf45"
   },
   "outputs": [
    {
     "data": {
      "text/html": [
       "<div>\n",
       "<style scoped>\n",
       "    .dataframe tbody tr th:only-of-type {\n",
       "        vertical-align: middle;\n",
       "    }\n",
       "\n",
       "    .dataframe tbody tr th {\n",
       "        vertical-align: top;\n",
       "    }\n",
       "\n",
       "    .dataframe thead th {\n",
       "        text-align: right;\n",
       "    }\n",
       "</style>\n",
       "<table border=\"1\" class=\"dataframe\">\n",
       "  <thead>\n",
       "    <tr style=\"text-align: right;\">\n",
       "      <th></th>\n",
       "      <th>Site</th>\n",
       "      <th>Species</th>\n",
       "      <th>ReadingDateTime</th>\n",
       "      <th>Value</th>\n",
       "      <th>Units</th>\n",
       "      <th>Provisional or Ratified</th>\n",
       "    </tr>\n",
       "  </thead>\n",
       "  <tbody>\n",
       "    <tr>\n",
       "      <th>0</th>\n",
       "      <td>HI0</td>\n",
       "      <td>CO</td>\n",
       "      <td>01/01/2022 00:00</td>\n",
       "      <td>NaN</td>\n",
       "      <td>mg m-3</td>\n",
       "      <td>P</td>\n",
       "    </tr>\n",
       "    <tr>\n",
       "      <th>1</th>\n",
       "      <td>HI0</td>\n",
       "      <td>CO</td>\n",
       "      <td>01/01/2022 00:15</td>\n",
       "      <td>NaN</td>\n",
       "      <td>mg m-3</td>\n",
       "      <td>P</td>\n",
       "    </tr>\n",
       "    <tr>\n",
       "      <th>2</th>\n",
       "      <td>HI0</td>\n",
       "      <td>CO</td>\n",
       "      <td>01/01/2022 00:30</td>\n",
       "      <td>NaN</td>\n",
       "      <td>mg m-3</td>\n",
       "      <td>P</td>\n",
       "    </tr>\n",
       "    <tr>\n",
       "      <th>3</th>\n",
       "      <td>HI0</td>\n",
       "      <td>CO</td>\n",
       "      <td>01/01/2022 00:45</td>\n",
       "      <td>NaN</td>\n",
       "      <td>mg m-3</td>\n",
       "      <td>P</td>\n",
       "    </tr>\n",
       "    <tr>\n",
       "      <th>4</th>\n",
       "      <td>HI0</td>\n",
       "      <td>CO</td>\n",
       "      <td>01/01/2022 01:00</td>\n",
       "      <td>NaN</td>\n",
       "      <td>mg m-3</td>\n",
       "      <td>P</td>\n",
       "    </tr>\n",
       "  </tbody>\n",
       "</table>\n",
       "</div>"
      ],
      "text/plain": [
       "  Site Species   ReadingDateTime  Value   Units Provisional or Ratified\n",
       "0  HI0      CO  01/01/2022 00:00    NaN  mg m-3                       P\n",
       "1  HI0      CO  01/01/2022 00:15    NaN  mg m-3                       P\n",
       "2  HI0      CO  01/01/2022 00:30    NaN  mg m-3                       P\n",
       "3  HI0      CO  01/01/2022 00:45    NaN  mg m-3                       P\n",
       "4  HI0      CO  01/01/2022 01:00    NaN  mg m-3                       P"
      ]
     },
     "execution_count": 3,
     "metadata": {},
     "output_type": "execute_result"
    }
   ],
   "source": [
    "laqndata.iloc[0:5]"
   ]
  },
  {
   "cell_type": "markdown",
   "metadata": {
    "id": "ByA5Xuvv-5eD"
   },
   "source": [
    "#### Remove unnecessary columns\n",
    "This piece of code allows us to remove column 'Provisional or Ratified' which is not necessary."
   ]
  },
  {
   "cell_type": "code",
   "execution_count": 4,
   "metadata": {
    "executionInfo": {
     "elapsed": 181,
     "status": "ok",
     "timestamp": 1696997816848,
     "user": {
      "displayName": "Phuc Dinh",
      "userId": "07487910869990873810"
     },
     "user_tz": 420
    },
    "id": "rosBYZW5LDhL"
   },
   "outputs": [],
   "source": [
    "laqndata.drop(columns=['Provisional or Ratified'], axis=1, inplace=True)"
   ]
  },
  {
   "cell_type": "markdown",
   "metadata": {
    "id": "m9ED-rT2MmPw"
   },
   "source": [
    "#### Drop rows with missing values\n",
    "As we can see from the tabular above, some values are NaN. The code below is used to drop all rows with missing values"
   ]
  },
  {
   "cell_type": "code",
   "execution_count": 5,
   "metadata": {
    "colab": {
     "base_uri": "https://localhost:8080/"
    },
    "executionInfo": {
     "elapsed": 178,
     "status": "ok",
     "timestamp": 1696997818143,
     "user": {
      "displayName": "Phuc Dinh",
      "userId": "07487910869990873810"
     },
     "user_tz": 420
    },
    "id": "8ls0hddk-6vs",
    "outputId": "9f238b7a-7705-4504-c5e2-01908f17880d"
   },
   "outputs": [
    {
     "name": "stdout",
     "output_type": "stream",
     "text": [
      "Number of rows in original data: 175200\n",
      "Number of rows after removing NaN: 104596\n"
     ]
    }
   ],
   "source": [
    "print('Number of rows in original data:', laqndata.shape[0])\n",
    "laqndata.dropna(inplace=True)\n",
    "laqndata\n",
    "print('Number of rows after removing NaN:', laqndata.shape[0])"
   ]
  },
  {
   "cell_type": "code",
   "execution_count": 6,
   "metadata": {
    "colab": {
     "base_uri": "https://localhost:8080/",
     "height": 206
    },
    "executionInfo": {
     "elapsed": 196,
     "status": "ok",
     "timestamp": 1696997820055,
     "user": {
      "displayName": "Phuc Dinh",
      "userId": "07487910869990873810"
     },
     "user_tz": 420
    },
    "id": "J4jeMDJL85oh",
    "outputId": "52a042bb-cda5-4db5-c3b0-2260695c272b"
   },
   "outputs": [
    {
     "data": {
      "text/html": [
       "<div>\n",
       "<style scoped>\n",
       "    .dataframe tbody tr th:only-of-type {\n",
       "        vertical-align: middle;\n",
       "    }\n",
       "\n",
       "    .dataframe tbody tr th {\n",
       "        vertical-align: top;\n",
       "    }\n",
       "\n",
       "    .dataframe thead th {\n",
       "        text-align: right;\n",
       "    }\n",
       "</style>\n",
       "<table border=\"1\" class=\"dataframe\">\n",
       "  <thead>\n",
       "    <tr style=\"text-align: right;\">\n",
       "      <th></th>\n",
       "      <th>Site</th>\n",
       "      <th>Species</th>\n",
       "      <th>ReadingDateTime</th>\n",
       "      <th>Value</th>\n",
       "      <th>Units</th>\n",
       "    </tr>\n",
       "  </thead>\n",
       "  <tbody>\n",
       "    <tr>\n",
       "      <th>35040</th>\n",
       "      <td>HI0</td>\n",
       "      <td>NO</td>\n",
       "      <td>01/01/2022 00:00</td>\n",
       "      <td>2.4</td>\n",
       "      <td>ug m-3</td>\n",
       "    </tr>\n",
       "    <tr>\n",
       "      <th>35041</th>\n",
       "      <td>HI0</td>\n",
       "      <td>NO</td>\n",
       "      <td>01/01/2022 00:15</td>\n",
       "      <td>2.4</td>\n",
       "      <td>ug m-3</td>\n",
       "    </tr>\n",
       "    <tr>\n",
       "      <th>35042</th>\n",
       "      <td>HI0</td>\n",
       "      <td>NO</td>\n",
       "      <td>01/01/2022 00:30</td>\n",
       "      <td>2.4</td>\n",
       "      <td>ug m-3</td>\n",
       "    </tr>\n",
       "    <tr>\n",
       "      <th>35043</th>\n",
       "      <td>HI0</td>\n",
       "      <td>NO</td>\n",
       "      <td>01/01/2022 00:45</td>\n",
       "      <td>2.4</td>\n",
       "      <td>ug m-3</td>\n",
       "    </tr>\n",
       "    <tr>\n",
       "      <th>35044</th>\n",
       "      <td>HI0</td>\n",
       "      <td>NO</td>\n",
       "      <td>01/01/2022 01:00</td>\n",
       "      <td>1.2</td>\n",
       "      <td>ug m-3</td>\n",
       "    </tr>\n",
       "  </tbody>\n",
       "</table>\n",
       "</div>"
      ],
      "text/plain": [
       "      Site Species   ReadingDateTime  Value   Units\n",
       "35040  HI0      NO  01/01/2022 00:00    2.4  ug m-3\n",
       "35041  HI0      NO  01/01/2022 00:15    2.4  ug m-3\n",
       "35042  HI0      NO  01/01/2022 00:30    2.4  ug m-3\n",
       "35043  HI0      NO  01/01/2022 00:45    2.4  ug m-3\n",
       "35044  HI0      NO  01/01/2022 01:00    1.2  ug m-3"
      ]
     },
     "execution_count": 6,
     "metadata": {},
     "output_type": "execute_result"
    }
   ],
   "source": [
    "laqndata.iloc[0:5]"
   ]
  },
  {
   "cell_type": "markdown",
   "metadata": {
    "id": "54O2f5ZinUE9"
   },
   "source": [
    "### Dataset 2 (UNSW-NB15)\n",
    "In this dataset, we use these techniques to clean the dataset: dropping fields, removing duplicated rows"
   ]
  },
  {
   "cell_type": "markdown",
   "metadata": {
    "id": "8ykETeQ3nsa1"
   },
   "source": [
    "#### Import data"
   ]
  },
  {
   "cell_type": "code",
   "execution_count": 7,
   "metadata": {
    "executionInfo": {
     "elapsed": 1596,
     "status": "ok",
     "timestamp": 1696997906056,
     "user": {
      "displayName": "Phuc Dinh",
      "userId": "07487910869990873810"
     },
     "user_tz": 420
    },
    "id": "HbXIz6h4nTkC"
   },
   "outputs": [],
   "source": [
    "unsw_nb15 = pd.read_csv('https://github.com/dinhphucv/CSC-177/raw/main/Data%20Preprocessing%20Project/data/UNSW_NB15.csv')"
   ]
  },
  {
   "cell_type": "code",
   "execution_count": 8,
   "metadata": {
    "colab": {
     "base_uri": "https://localhost:8080/",
     "height": 236
    },
    "executionInfo": {
     "elapsed": 186,
     "status": "ok",
     "timestamp": 1696997907033,
     "user": {
      "displayName": "Phuc Dinh",
      "userId": "07487910869990873810"
     },
     "user_tz": 420
    },
    "id": "WKpzA1RHoHE-",
    "outputId": "9fe9b991-8a53-4299-e302-a132d7f55fd1"
   },
   "outputs": [
    {
     "data": {
      "text/html": [
       "<div>\n",
       "<style scoped>\n",
       "    .dataframe tbody tr th:only-of-type {\n",
       "        vertical-align: middle;\n",
       "    }\n",
       "\n",
       "    .dataframe tbody tr th {\n",
       "        vertical-align: top;\n",
       "    }\n",
       "\n",
       "    .dataframe thead th {\n",
       "        text-align: right;\n",
       "    }\n",
       "</style>\n",
       "<table border=\"1\" class=\"dataframe\">\n",
       "  <thead>\n",
       "    <tr style=\"text-align: right;\">\n",
       "      <th></th>\n",
       "      <th>id</th>\n",
       "      <th>dur</th>\n",
       "      <th>proto</th>\n",
       "      <th>service</th>\n",
       "      <th>state</th>\n",
       "      <th>spkts</th>\n",
       "      <th>dpkts</th>\n",
       "      <th>sbytes</th>\n",
       "      <th>dbytes</th>\n",
       "      <th>rate</th>\n",
       "      <th>...</th>\n",
       "      <th>ct_dst_sport_ltm</th>\n",
       "      <th>ct_dst_src_ltm</th>\n",
       "      <th>is_ftp_login</th>\n",
       "      <th>ct_ftp_cmd</th>\n",
       "      <th>ct_flw_http_mthd</th>\n",
       "      <th>ct_src_ltm</th>\n",
       "      <th>ct_srv_dst</th>\n",
       "      <th>is_sm_ips_ports</th>\n",
       "      <th>attack_cat</th>\n",
       "      <th>label</th>\n",
       "    </tr>\n",
       "  </thead>\n",
       "  <tbody>\n",
       "    <tr>\n",
       "      <th>0</th>\n",
       "      <td>1</td>\n",
       "      <td>0.121478</td>\n",
       "      <td>tcp</td>\n",
       "      <td>-</td>\n",
       "      <td>FIN</td>\n",
       "      <td>6</td>\n",
       "      <td>4</td>\n",
       "      <td>258</td>\n",
       "      <td>172</td>\n",
       "      <td>74.087490</td>\n",
       "      <td>...</td>\n",
       "      <td>1</td>\n",
       "      <td>1</td>\n",
       "      <td>0</td>\n",
       "      <td>0</td>\n",
       "      <td>0</td>\n",
       "      <td>1</td>\n",
       "      <td>1</td>\n",
       "      <td>0</td>\n",
       "      <td>Normal</td>\n",
       "      <td>0</td>\n",
       "    </tr>\n",
       "    <tr>\n",
       "      <th>1</th>\n",
       "      <td>2</td>\n",
       "      <td>0.649902</td>\n",
       "      <td>tcp</td>\n",
       "      <td>-</td>\n",
       "      <td>FIN</td>\n",
       "      <td>14</td>\n",
       "      <td>38</td>\n",
       "      <td>734</td>\n",
       "      <td>42014</td>\n",
       "      <td>78.473372</td>\n",
       "      <td>...</td>\n",
       "      <td>1</td>\n",
       "      <td>2</td>\n",
       "      <td>0</td>\n",
       "      <td>0</td>\n",
       "      <td>0</td>\n",
       "      <td>1</td>\n",
       "      <td>6</td>\n",
       "      <td>0</td>\n",
       "      <td>Normal</td>\n",
       "      <td>0</td>\n",
       "    </tr>\n",
       "    <tr>\n",
       "      <th>2</th>\n",
       "      <td>3</td>\n",
       "      <td>1.623129</td>\n",
       "      <td>tcp</td>\n",
       "      <td>-</td>\n",
       "      <td>FIN</td>\n",
       "      <td>8</td>\n",
       "      <td>16</td>\n",
       "      <td>364</td>\n",
       "      <td>13186</td>\n",
       "      <td>14.170161</td>\n",
       "      <td>...</td>\n",
       "      <td>1</td>\n",
       "      <td>3</td>\n",
       "      <td>0</td>\n",
       "      <td>0</td>\n",
       "      <td>0</td>\n",
       "      <td>2</td>\n",
       "      <td>6</td>\n",
       "      <td>0</td>\n",
       "      <td>Normal</td>\n",
       "      <td>0</td>\n",
       "    </tr>\n",
       "    <tr>\n",
       "      <th>3</th>\n",
       "      <td>4</td>\n",
       "      <td>1.681642</td>\n",
       "      <td>tcp</td>\n",
       "      <td>ftp</td>\n",
       "      <td>FIN</td>\n",
       "      <td>12</td>\n",
       "      <td>12</td>\n",
       "      <td>628</td>\n",
       "      <td>770</td>\n",
       "      <td>13.677108</td>\n",
       "      <td>...</td>\n",
       "      <td>1</td>\n",
       "      <td>3</td>\n",
       "      <td>1</td>\n",
       "      <td>1</td>\n",
       "      <td>0</td>\n",
       "      <td>2</td>\n",
       "      <td>1</td>\n",
       "      <td>0</td>\n",
       "      <td>Normal</td>\n",
       "      <td>0</td>\n",
       "    </tr>\n",
       "    <tr>\n",
       "      <th>4</th>\n",
       "      <td>5</td>\n",
       "      <td>0.449454</td>\n",
       "      <td>tcp</td>\n",
       "      <td>-</td>\n",
       "      <td>FIN</td>\n",
       "      <td>10</td>\n",
       "      <td>6</td>\n",
       "      <td>534</td>\n",
       "      <td>268</td>\n",
       "      <td>33.373826</td>\n",
       "      <td>...</td>\n",
       "      <td>1</td>\n",
       "      <td>40</td>\n",
       "      <td>0</td>\n",
       "      <td>0</td>\n",
       "      <td>0</td>\n",
       "      <td>2</td>\n",
       "      <td>39</td>\n",
       "      <td>0</td>\n",
       "      <td>Normal</td>\n",
       "      <td>0</td>\n",
       "    </tr>\n",
       "  </tbody>\n",
       "</table>\n",
       "<p>5 rows × 45 columns</p>\n",
       "</div>"
      ],
      "text/plain": [
       "   id       dur proto service state  spkts  dpkts  sbytes  dbytes       rate  \\\n",
       "0   1  0.121478   tcp       -   FIN      6      4     258     172  74.087490   \n",
       "1   2  0.649902   tcp       -   FIN     14     38     734   42014  78.473372   \n",
       "2   3  1.623129   tcp       -   FIN      8     16     364   13186  14.170161   \n",
       "3   4  1.681642   tcp     ftp   FIN     12     12     628     770  13.677108   \n",
       "4   5  0.449454   tcp       -   FIN     10      6     534     268  33.373826   \n",
       "\n",
       "   ...  ct_dst_sport_ltm  ct_dst_src_ltm  is_ftp_login  ct_ftp_cmd  \\\n",
       "0  ...                 1               1             0           0   \n",
       "1  ...                 1               2             0           0   \n",
       "2  ...                 1               3             0           0   \n",
       "3  ...                 1               3             1           1   \n",
       "4  ...                 1              40             0           0   \n",
       "\n",
       "   ct_flw_http_mthd  ct_src_ltm  ct_srv_dst  is_sm_ips_ports  attack_cat  \\\n",
       "0                 0           1           1                0      Normal   \n",
       "1                 0           1           6                0      Normal   \n",
       "2                 0           2           6                0      Normal   \n",
       "3                 0           2           1                0      Normal   \n",
       "4                 0           2          39                0      Normal   \n",
       "\n",
       "   label  \n",
       "0      0  \n",
       "1      0  \n",
       "2      0  \n",
       "3      0  \n",
       "4      0  \n",
       "\n",
       "[5 rows x 45 columns]"
      ]
     },
     "execution_count": 8,
     "metadata": {},
     "output_type": "execute_result"
    }
   ],
   "source": [
    "unsw_nb15.iloc[0:5]"
   ]
  },
  {
   "cell_type": "markdown",
   "metadata": {
    "id": "emoo5IOAoPBy"
   },
   "source": [
    "#### Check and save 'unsw_nb15' dataset shape"
   ]
  },
  {
   "cell_type": "code",
   "execution_count": 9,
   "metadata": {
    "colab": {
     "base_uri": "https://localhost:8080/"
    },
    "executionInfo": {
     "elapsed": 217,
     "status": "ok",
     "timestamp": 1696997910885,
     "user": {
      "displayName": "Phuc Dinh",
      "userId": "07487910869990873810"
     },
     "user_tz": 420
    },
    "id": "bLRMubNwoOOa",
    "outputId": "ef5635b4-e169-449e-86e9-9940bfe365c8"
   },
   "outputs": [
    {
     "name": "stdout",
     "output_type": "stream",
     "text": [
      "Number of instances/records: 175341\n",
      "Number of features/attributes: 45\n"
     ]
    }
   ],
   "source": [
    "unsw_nb15_original_shape = unsw_nb15.shape\n",
    "print('Number of instances/records:', unsw_nb15_original_shape[0])\n",
    "print('Number of features/attributes:', unsw_nb15_original_shape[1])"
   ]
  },
  {
   "cell_type": "markdown",
   "metadata": {
    "id": "LhOZLWAoouWj"
   },
   "source": [
    "#### Remove unnecessary columns\n",
    "The code below allows us to remove multiple categorical ('id' and 'attack_cat') as we are only interested in whether the connect is an attack rather than the attack type. Also, the id shouldn't have any meaning or effect on the output."
   ]
  },
  {
   "cell_type": "code",
   "execution_count": 10,
   "metadata": {
    "executionInfo": {
     "elapsed": 333,
     "status": "ok",
     "timestamp": 1696998231453,
     "user": {
      "displayName": "Phuc Dinh",
      "userId": "07487910869990873810"
     },
     "user_tz": 420
    },
    "id": "XnTX9H68otLK"
   },
   "outputs": [],
   "source": [
    "unsw_nb15.drop(columns=['id', 'attack_cat'], axis=1, inplace=True)"
   ]
  },
  {
   "cell_type": "markdown",
   "metadata": {
    "id": "lTAAw9jKokmB"
   },
   "source": [
    "#### Check and remove duplicated rows\n",
    "Here, we remove all duplicated rows. We have to do this after removing 'id' columns as the id may prevent us from remove duplicating data."
   ]
  },
  {
   "cell_type": "code",
   "execution_count": 11,
   "metadata": {
    "colab": {
     "base_uri": "https://localhost:8080/"
    },
    "executionInfo": {
     "elapsed": 741,
     "status": "ok",
     "timestamp": 1696998235003,
     "user": {
      "displayName": "Phuc Dinh",
      "userId": "07487910869990873810"
     },
     "user_tz": 420
    },
    "id": "YeIA3QI7okUb",
    "outputId": "e3ebde02-d2c3-4783-9d65-6691971a59e3"
   },
   "outputs": [
    {
     "name": "stdout",
     "output_type": "stream",
     "text": [
      "Duplicated rows in 'unsw_nb15' dataset: 74072\n"
     ]
    }
   ],
   "source": [
    "print('Duplicated rows in \\'unsw_nb15\\' dataset:', unsw_nb15.duplicated().sum())\n",
    "if unsw_nb15.duplicated().sum() > 0:\n",
    "  unsw_nb15.drop_duplicates(inplace=True)"
   ]
  },
  {
   "cell_type": "code",
   "execution_count": 12,
   "metadata": {
    "colab": {
     "base_uri": "https://localhost:8080/"
    },
    "executionInfo": {
     "elapsed": 190,
     "status": "ok",
     "timestamp": 1696998522921,
     "user": {
      "displayName": "Phuc Dinh",
      "userId": "07487910869990873810"
     },
     "user_tz": 420
    },
    "id": "c2BKeEc6vRXr",
    "outputId": "f80c7836-cfad-4c54-fce5-4f122096e973"
   },
   "outputs": [
    {
     "name": "stdout",
     "output_type": "stream",
     "text": [
      "'unsw_nb15' original shape: (175341, 45)\n",
      "'unsw_nb15' current shape: (101269, 43)\n"
     ]
    }
   ],
   "source": [
    "print('\\'unsw_nb15\\' original shape:', unsw_nb15_original_shape)\n",
    "print('\\'unsw_nb15\\' current shape:', unsw_nb15.shape)"
   ]
  },
  {
   "cell_type": "markdown",
   "metadata": {
    "id": "rCpg7XyvbqnO"
   },
   "source": [
    "### Dataset 3 (diabetes)\n",
    "In this dataset, we use these techniques: shuffling, sorting,saving dataframe"
   ]
  },
  {
   "cell_type": "markdown",
   "metadata": {
    "id": "q0kQN5grbqnO"
   },
   "source": [
    "#### Import data"
   ]
  },
  {
   "cell_type": "code",
   "execution_count": 13,
   "metadata": {
    "executionInfo": {
     "elapsed": 403,
     "status": "ok",
     "timestamp": 1696998528256,
     "user": {
      "displayName": "Phuc Dinh",
      "userId": "07487910869990873810"
     },
     "user_tz": 420
    },
    "id": "5KJpAV6RgyL0"
   },
   "outputs": [],
   "source": [
    "diabetes = pd.read_csv('https://raw.githubusercontent.com/dinhphucv/CSC-177/main/Data%20Preprocessing%20Project/data/diabetes.csv')"
   ]
  },
  {
   "cell_type": "code",
   "execution_count": 14,
   "metadata": {
    "colab": {
     "base_uri": "https://localhost:8080/",
     "height": 206
    },
    "executionInfo": {
     "elapsed": 209,
     "status": "ok",
     "timestamp": 1696998529187,
     "user": {
      "displayName": "Phuc Dinh",
      "userId": "07487910869990873810"
     },
     "user_tz": 420
    },
    "id": "-HwR05FZg2Bt",
    "outputId": "accd3a5f-b2b4-45cb-d416-d282369dabc2"
   },
   "outputs": [
    {
     "data": {
      "text/html": [
       "<div>\n",
       "<style scoped>\n",
       "    .dataframe tbody tr th:only-of-type {\n",
       "        vertical-align: middle;\n",
       "    }\n",
       "\n",
       "    .dataframe tbody tr th {\n",
       "        vertical-align: top;\n",
       "    }\n",
       "\n",
       "    .dataframe thead th {\n",
       "        text-align: right;\n",
       "    }\n",
       "</style>\n",
       "<table border=\"1\" class=\"dataframe\">\n",
       "  <thead>\n",
       "    <tr style=\"text-align: right;\">\n",
       "      <th></th>\n",
       "      <th>Pregnancies</th>\n",
       "      <th>Glucose</th>\n",
       "      <th>BloodPressure</th>\n",
       "      <th>SkinThickness</th>\n",
       "      <th>Insulin</th>\n",
       "      <th>BMI</th>\n",
       "      <th>DiabetesPedigreeFunction</th>\n",
       "      <th>Age</th>\n",
       "      <th>Outcome</th>\n",
       "    </tr>\n",
       "  </thead>\n",
       "  <tbody>\n",
       "    <tr>\n",
       "      <th>0</th>\n",
       "      <td>6</td>\n",
       "      <td>148</td>\n",
       "      <td>72</td>\n",
       "      <td>35</td>\n",
       "      <td>0</td>\n",
       "      <td>33.6</td>\n",
       "      <td>0.627</td>\n",
       "      <td>50</td>\n",
       "      <td>1</td>\n",
       "    </tr>\n",
       "    <tr>\n",
       "      <th>1</th>\n",
       "      <td>1</td>\n",
       "      <td>85</td>\n",
       "      <td>66</td>\n",
       "      <td>29</td>\n",
       "      <td>0</td>\n",
       "      <td>26.6</td>\n",
       "      <td>0.351</td>\n",
       "      <td>31</td>\n",
       "      <td>0</td>\n",
       "    </tr>\n",
       "    <tr>\n",
       "      <th>2</th>\n",
       "      <td>8</td>\n",
       "      <td>183</td>\n",
       "      <td>64</td>\n",
       "      <td>0</td>\n",
       "      <td>0</td>\n",
       "      <td>23.3</td>\n",
       "      <td>0.672</td>\n",
       "      <td>32</td>\n",
       "      <td>1</td>\n",
       "    </tr>\n",
       "    <tr>\n",
       "      <th>3</th>\n",
       "      <td>1</td>\n",
       "      <td>89</td>\n",
       "      <td>66</td>\n",
       "      <td>23</td>\n",
       "      <td>94</td>\n",
       "      <td>28.1</td>\n",
       "      <td>0.167</td>\n",
       "      <td>21</td>\n",
       "      <td>0</td>\n",
       "    </tr>\n",
       "    <tr>\n",
       "      <th>4</th>\n",
       "      <td>0</td>\n",
       "      <td>137</td>\n",
       "      <td>40</td>\n",
       "      <td>35</td>\n",
       "      <td>168</td>\n",
       "      <td>43.1</td>\n",
       "      <td>2.288</td>\n",
       "      <td>33</td>\n",
       "      <td>1</td>\n",
       "    </tr>\n",
       "  </tbody>\n",
       "</table>\n",
       "</div>"
      ],
      "text/plain": [
       "   Pregnancies  Glucose  BloodPressure  SkinThickness  Insulin   BMI  \\\n",
       "0            6      148             72             35        0  33.6   \n",
       "1            1       85             66             29        0  26.6   \n",
       "2            8      183             64              0        0  23.3   \n",
       "3            1       89             66             23       94  28.1   \n",
       "4            0      137             40             35      168  43.1   \n",
       "\n",
       "   DiabetesPedigreeFunction  Age  Outcome  \n",
       "0                     0.627   50        1  \n",
       "1                     0.351   31        0  \n",
       "2                     0.672   32        1  \n",
       "3                     0.167   21        0  \n",
       "4                     2.288   33        1  "
      ]
     },
     "execution_count": 14,
     "metadata": {},
     "output_type": "execute_result"
    }
   ],
   "source": [
    "diabetes.iloc[0:5]"
   ]
  },
  {
   "cell_type": "markdown",
   "metadata": {
    "id": "bXkg2o2ZbqnP"
   },
   "source": [
    "#### Check and save 'diabetes' dataset shape"
   ]
  },
  {
   "cell_type": "code",
   "execution_count": 15,
   "metadata": {
    "colab": {
     "base_uri": "https://localhost:8080/"
    },
    "executionInfo": {
     "elapsed": 176,
     "status": "ok",
     "timestamp": 1696998533588,
     "user": {
      "displayName": "Phuc Dinh",
      "userId": "07487910869990873810"
     },
     "user_tz": 420
    },
    "id": "a7lCl9VVbqnP",
    "outputId": "0578b170-ba0f-483e-d83a-57eccec2fb49"
   },
   "outputs": [
    {
     "name": "stdout",
     "output_type": "stream",
     "text": [
      "Number or instances/records: 768\n",
      "Number or features/attributes: 9\n"
     ]
    }
   ],
   "source": [
    "diabetes_original_shape = diabetes.shape\n",
    "print('Number or instances/records:', diabetes_original_shape[0])\n",
    "print('Number or features/attributes:', diabetes_original_shape[1])"
   ]
  },
  {
   "cell_type": "markdown",
   "metadata": {
    "id": "sRLVP24DbqnQ"
   },
   "source": [
    "#### Check and remove duplicated rows"
   ]
  },
  {
   "cell_type": "code",
   "execution_count": 16,
   "metadata": {
    "colab": {
     "base_uri": "https://localhost:8080/"
    },
    "executionInfo": {
     "elapsed": 186,
     "status": "ok",
     "timestamp": 1696998536943,
     "user": {
      "displayName": "Phuc Dinh",
      "userId": "07487910869990873810"
     },
     "user_tz": 420
    },
    "id": "rZcl69EzbqnQ",
    "outputId": "2de0cc2c-2b74-4e6d-a7bc-c6e5643015aa"
   },
   "outputs": [
    {
     "name": "stdout",
     "output_type": "stream",
     "text": [
      "Duplicated rows in 'diabetes' dataset: 0\n"
     ]
    }
   ],
   "source": [
    "print('Duplicated rows in \\'diabetes\\' dataset:', diabetes.duplicated().sum())"
   ]
  },
  {
   "cell_type": "markdown",
   "metadata": {
    "id": "reqNPVzvhUCs"
   },
   "source": [
    "#### Outliers"
   ]
  },
  {
   "cell_type": "code",
   "execution_count": 17,
   "metadata": {
    "colab": {
     "base_uri": "https://localhost:8080/"
    },
    "executionInfo": {
     "elapsed": 197,
     "status": "ok",
     "timestamp": 1696998538784,
     "user": {
      "displayName": "Phuc Dinh",
      "userId": "07487910869990873810"
     },
     "user_tz": 420
    },
    "id": "rvsPhhNcH49U",
    "outputId": "dd239b7a-f025-4489-ab65-cb4b7a0045ea"
   },
   "outputs": [
    {
     "name": "stdout",
     "output_type": "stream",
     "text": [
      "<class 'pandas.core.frame.DataFrame'>\n",
      "RangeIndex: 768 entries, 0 to 767\n",
      "Data columns (total 8 columns):\n",
      " #   Column                    Non-Null Count  Dtype  \n",
      "---  ------                    --------------  -----  \n",
      " 0   Age                       768 non-null    int64  \n",
      " 1   BMI                       768 non-null    float64\n",
      " 2   BloodPressure             768 non-null    int64  \n",
      " 3   DiabetesPedigreeFunction  768 non-null    float64\n",
      " 4   Glucose                   768 non-null    int64  \n",
      " 5   Insulin                   768 non-null    int64  \n",
      " 6   Pregnancies               768 non-null    int64  \n",
      " 7   SkinThickness             768 non-null    int64  \n",
      "dtypes: float64(2), int64(6)\n",
      "memory usage: 48.1 KB\n"
     ]
    }
   ],
   "source": [
    "diabetes[diabetes.columns.difference(['Outcome'])].info()"
   ]
  },
  {
   "cell_type": "code",
   "execution_count": 18,
   "metadata": {
    "colab": {
     "base_uri": "https://localhost:8080/",
     "height": 847
    },
    "executionInfo": {
     "elapsed": 391,
     "status": "ok",
     "timestamp": 1697001748318,
     "user": {
      "displayName": "Phuc Dinh",
      "userId": "07487910869990873810"
     },
     "user_tz": 420
    },
    "id": "xsNZLuqKhTHn",
    "outputId": "6596d996-7a55-4a49-988b-bace65e373ba"
   },
   "outputs": [
    {
     "data": {
      "text/plain": [
       "<Axes: >"
      ]
     },
     "execution_count": 18,
     "metadata": {},
     "output_type": "execute_result"
    },
    {
     "data": {
      "image/png": "[encoded data removed]",
      "text/plain": [
       "<Figure size 2000x1000 with 1 Axes>"
      ]
     },
     "metadata": {},
     "output_type": "display_data"
    }
   ],
   "source": [
    "diabetes_2 = diabetes[diabetes.columns.difference(['Outcome'])].copy()\n",
    "diabetes_2.boxplot(figsize=(20,10))"
   ]
  },
  {
   "cell_type": "markdown",
   "metadata": {
    "id": "1WdhDCjzLLb3"
   },
   "source": [
    "The boxplots suggest that there're some abnormally high values in all columns. The code below shows the results of standardizing the columns of the data. We also discarding the outliner with Z score > 3 or Z <=-3"
   ]
  },
  {
   "cell_type": "code",
   "execution_count": 19,
   "metadata": {
    "colab": {
     "base_uri": "https://localhost:8080/",
     "height": 424
    },
    "executionInfo": {
     "elapsed": 225,
     "status": "ok",
     "timestamp": 1697002006967,
     "user": {
      "displayName": "Phuc Dinh",
      "userId": "07487910869990873810"
     },
     "user_tz": 420
    },
    "id": "dnSHHSYxKKDz",
    "outputId": "48a0db57-ac5d-477b-8e00-ca513ada3be5"
   },
   "outputs": [
    {
     "data": {
      "text/html": [
       "<div>\n",
       "<style scoped>\n",
       "    .dataframe tbody tr th:only-of-type {\n",
       "        vertical-align: middle;\n",
       "    }\n",
       "\n",
       "    .dataframe tbody tr th {\n",
       "        vertical-align: top;\n",
       "    }\n",
       "\n",
       "    .dataframe thead th {\n",
       "        text-align: right;\n",
       "    }\n",
       "</style>\n",
       "<table border=\"1\" class=\"dataframe\">\n",
       "  <thead>\n",
       "    <tr style=\"text-align: right;\">\n",
       "      <th></th>\n",
       "      <th>Age</th>\n",
       "      <th>BMI</th>\n",
       "      <th>BloodPressure</th>\n",
       "      <th>DiabetesPedigreeFunction</th>\n",
       "      <th>Glucose</th>\n",
       "      <th>Insulin</th>\n",
       "      <th>Pregnancies</th>\n",
       "      <th>SkinThickness</th>\n",
       "    </tr>\n",
       "  </thead>\n",
       "  <tbody>\n",
       "    <tr>\n",
       "      <th>0</th>\n",
       "      <td>1.425067</td>\n",
       "      <td>0.203880</td>\n",
       "      <td>0.149543</td>\n",
       "      <td>0.468187</td>\n",
       "      <td>0.847771</td>\n",
       "      <td>-0.692439</td>\n",
       "      <td>0.639530</td>\n",
       "      <td>0.906679</td>\n",
       "    </tr>\n",
       "    <tr>\n",
       "      <th>1</th>\n",
       "      <td>-0.190548</td>\n",
       "      <td>-0.683976</td>\n",
       "      <td>-0.160441</td>\n",
       "      <td>-0.364823</td>\n",
       "      <td>-1.122665</td>\n",
       "      <td>-0.692439</td>\n",
       "      <td>-0.844335</td>\n",
       "      <td>0.530556</td>\n",
       "    </tr>\n",
       "    <tr>\n",
       "      <th>2</th>\n",
       "      <td>-0.105515</td>\n",
       "      <td>-1.102537</td>\n",
       "      <td>-0.263769</td>\n",
       "      <td>0.604004</td>\n",
       "      <td>1.942458</td>\n",
       "      <td>-0.692439</td>\n",
       "      <td>1.233077</td>\n",
       "      <td>-1.287373</td>\n",
       "    </tr>\n",
       "    <tr>\n",
       "      <th>3</th>\n",
       "      <td>-1.040871</td>\n",
       "      <td>-0.493721</td>\n",
       "      <td>-0.160441</td>\n",
       "      <td>-0.920163</td>\n",
       "      <td>-0.997558</td>\n",
       "      <td>0.123221</td>\n",
       "      <td>-0.844335</td>\n",
       "      <td>0.154433</td>\n",
       "    </tr>\n",
       "    <tr>\n",
       "      <th>4</th>\n",
       "      <td>-0.020483</td>\n",
       "      <td>1.408828</td>\n",
       "      <td>-1.503707</td>\n",
       "      <td>5.481337</td>\n",
       "      <td>0.503727</td>\n",
       "      <td>0.765337</td>\n",
       "      <td>-1.141108</td>\n",
       "      <td>0.906679</td>\n",
       "    </tr>\n",
       "    <tr>\n",
       "      <th>...</th>\n",
       "      <td>...</td>\n",
       "      <td>...</td>\n",
       "      <td>...</td>\n",
       "      <td>...</td>\n",
       "      <td>...</td>\n",
       "      <td>...</td>\n",
       "      <td>...</td>\n",
       "      <td>...</td>\n",
       "    </tr>\n",
       "    <tr>\n",
       "      <th>763</th>\n",
       "      <td>2.530487</td>\n",
       "      <td>0.115094</td>\n",
       "      <td>0.356200</td>\n",
       "      <td>-0.908090</td>\n",
       "      <td>-0.622237</td>\n",
       "      <td>0.869464</td>\n",
       "      <td>1.826623</td>\n",
       "      <td>1.721613</td>\n",
       "    </tr>\n",
       "    <tr>\n",
       "      <th>764</th>\n",
       "      <td>-0.530677</td>\n",
       "      <td>0.609757</td>\n",
       "      <td>0.046215</td>\n",
       "      <td>-0.398023</td>\n",
       "      <td>0.034575</td>\n",
       "      <td>-0.692439</td>\n",
       "      <td>-0.547562</td>\n",
       "      <td>0.405181</td>\n",
       "    </tr>\n",
       "    <tr>\n",
       "      <th>765</th>\n",
       "      <td>-0.275580</td>\n",
       "      <td>-0.734711</td>\n",
       "      <td>0.149543</td>\n",
       "      <td>-0.684747</td>\n",
       "      <td>0.003299</td>\n",
       "      <td>0.279412</td>\n",
       "      <td>0.342757</td>\n",
       "      <td>0.154433</td>\n",
       "    </tr>\n",
       "    <tr>\n",
       "      <th>766</th>\n",
       "      <td>1.169970</td>\n",
       "      <td>-0.240048</td>\n",
       "      <td>-0.470426</td>\n",
       "      <td>-0.370859</td>\n",
       "      <td>0.159683</td>\n",
       "      <td>-0.692439</td>\n",
       "      <td>-0.844335</td>\n",
       "      <td>-1.287373</td>\n",
       "    </tr>\n",
       "    <tr>\n",
       "      <th>767</th>\n",
       "      <td>-0.870806</td>\n",
       "      <td>-0.201997</td>\n",
       "      <td>0.046215</td>\n",
       "      <td>-0.473476</td>\n",
       "      <td>-0.872451</td>\n",
       "      <td>-0.692439</td>\n",
       "      <td>-0.844335</td>\n",
       "      <td>0.655930</td>\n",
       "    </tr>\n",
       "  </tbody>\n",
       "</table>\n",
       "<p>768 rows × 8 columns</p>\n",
       "</div>"
      ],
      "text/plain": [
       "          Age       BMI  BloodPressure  DiabetesPedigreeFunction   Glucose  \\\n",
       "0    1.425067  0.203880       0.149543                  0.468187  0.847771   \n",
       "1   -0.190548 -0.683976      -0.160441                 -0.364823 -1.122665   \n",
       "2   -0.105515 -1.102537      -0.263769                  0.604004  1.942458   \n",
       "3   -1.040871 -0.493721      -0.160441                 -0.920163 -0.997558   \n",
       "4   -0.020483  1.408828      -1.503707                  5.481337  0.503727   \n",
       "..        ...       ...            ...                       ...       ...   \n",
       "763  2.530487  0.115094       0.356200                 -0.908090 -0.622237   \n",
       "764 -0.530677  0.609757       0.046215                 -0.398023  0.034575   \n",
       "765 -0.275580 -0.734711       0.149543                 -0.684747  0.003299   \n",
       "766  1.169970 -0.240048      -0.470426                 -0.370859  0.159683   \n",
       "767 -0.870806 -0.201997       0.046215                 -0.473476 -0.872451   \n",
       "\n",
       "      Insulin  Pregnancies  SkinThickness  \n",
       "0   -0.692439     0.639530       0.906679  \n",
       "1   -0.692439    -0.844335       0.530556  \n",
       "2   -0.692439     1.233077      -1.287373  \n",
       "3    0.123221    -0.844335       0.154433  \n",
       "4    0.765337    -1.141108       0.906679  \n",
       "..        ...          ...            ...  \n",
       "763  0.869464     1.826623       1.721613  \n",
       "764 -0.692439    -0.547562       0.405181  \n",
       "765  0.279412     0.342757       0.154433  \n",
       "766 -0.692439    -0.844335      -1.287373  \n",
       "767 -0.692439    -0.844335       0.655930  \n",
       "\n",
       "[768 rows x 8 columns]"
      ]
     },
     "execution_count": 19,
     "metadata": {},
     "output_type": "execute_result"
    }
   ],
   "source": [
    "Z = (diabetes_2-diabetes_2.mean())/diabetes_2.std()\n",
    "Z"
   ]
  },
  {
   "cell_type": "code",
   "execution_count": 20,
   "metadata": {
    "colab": {
     "base_uri": "https://localhost:8080/",
     "height": 424
    },
    "executionInfo": {
     "elapsed": 511,
     "status": "ok",
     "timestamp": 1697002014360,
     "user": {
      "displayName": "Phuc Dinh",
      "userId": "07487910869990873810"
     },
     "user_tz": 420
    },
    "id": "3MG35K8WMOqR",
    "outputId": "88e4a434-cb30-4c72-e3c5-f3dfc5cce5f7"
   },
   "outputs": [
    {
     "data": {
      "text/html": [
       "<div>\n",
       "<style scoped>\n",
       "    .dataframe tbody tr th:only-of-type {\n",
       "        vertical-align: middle;\n",
       "    }\n",
       "\n",
       "    .dataframe tbody tr th {\n",
       "        vertical-align: top;\n",
       "    }\n",
       "\n",
       "    .dataframe thead th {\n",
       "        text-align: right;\n",
       "    }\n",
       "</style>\n",
       "<table border=\"1\" class=\"dataframe\">\n",
       "  <thead>\n",
       "    <tr style=\"text-align: right;\">\n",
       "      <th></th>\n",
       "      <th>Age</th>\n",
       "      <th>BMI</th>\n",
       "      <th>BloodPressure</th>\n",
       "      <th>DiabetesPedigreeFunction</th>\n",
       "      <th>Glucose</th>\n",
       "      <th>Insulin</th>\n",
       "      <th>Pregnancies</th>\n",
       "      <th>SkinThickness</th>\n",
       "    </tr>\n",
       "  </thead>\n",
       "  <tbody>\n",
       "    <tr>\n",
       "      <th>0</th>\n",
       "      <td>1.425067</td>\n",
       "      <td>0.203880</td>\n",
       "      <td>0.149543</td>\n",
       "      <td>0.468187</td>\n",
       "      <td>0.847771</td>\n",
       "      <td>-0.692439</td>\n",
       "      <td>0.639530</td>\n",
       "      <td>0.906679</td>\n",
       "    </tr>\n",
       "    <tr>\n",
       "      <th>1</th>\n",
       "      <td>-0.190548</td>\n",
       "      <td>-0.683976</td>\n",
       "      <td>-0.160441</td>\n",
       "      <td>-0.364823</td>\n",
       "      <td>-1.122665</td>\n",
       "      <td>-0.692439</td>\n",
       "      <td>-0.844335</td>\n",
       "      <td>0.530556</td>\n",
       "    </tr>\n",
       "    <tr>\n",
       "      <th>2</th>\n",
       "      <td>-0.105515</td>\n",
       "      <td>-1.102537</td>\n",
       "      <td>-0.263769</td>\n",
       "      <td>0.604004</td>\n",
       "      <td>1.942458</td>\n",
       "      <td>-0.692439</td>\n",
       "      <td>1.233077</td>\n",
       "      <td>-1.287373</td>\n",
       "    </tr>\n",
       "    <tr>\n",
       "      <th>3</th>\n",
       "      <td>-1.040871</td>\n",
       "      <td>-0.493721</td>\n",
       "      <td>-0.160441</td>\n",
       "      <td>-0.920163</td>\n",
       "      <td>-0.997558</td>\n",
       "      <td>0.123221</td>\n",
       "      <td>-0.844335</td>\n",
       "      <td>0.154433</td>\n",
       "    </tr>\n",
       "    <tr>\n",
       "      <th>5</th>\n",
       "      <td>-0.275580</td>\n",
       "      <td>-0.810813</td>\n",
       "      <td>0.252871</td>\n",
       "      <td>-0.817546</td>\n",
       "      <td>-0.153085</td>\n",
       "      <td>-0.692439</td>\n",
       "      <td>0.342757</td>\n",
       "      <td>-1.287373</td>\n",
       "    </tr>\n",
       "    <tr>\n",
       "      <th>...</th>\n",
       "      <td>...</td>\n",
       "      <td>...</td>\n",
       "      <td>...</td>\n",
       "      <td>...</td>\n",
       "      <td>...</td>\n",
       "      <td>...</td>\n",
       "      <td>...</td>\n",
       "      <td>...</td>\n",
       "    </tr>\n",
       "    <tr>\n",
       "      <th>763</th>\n",
       "      <td>2.530487</td>\n",
       "      <td>0.115094</td>\n",
       "      <td>0.356200</td>\n",
       "      <td>-0.908090</td>\n",
       "      <td>-0.622237</td>\n",
       "      <td>0.869464</td>\n",
       "      <td>1.826623</td>\n",
       "      <td>1.721613</td>\n",
       "    </tr>\n",
       "    <tr>\n",
       "      <th>764</th>\n",
       "      <td>-0.530677</td>\n",
       "      <td>0.609757</td>\n",
       "      <td>0.046215</td>\n",
       "      <td>-0.398023</td>\n",
       "      <td>0.034575</td>\n",
       "      <td>-0.692439</td>\n",
       "      <td>-0.547562</td>\n",
       "      <td>0.405181</td>\n",
       "    </tr>\n",
       "    <tr>\n",
       "      <th>765</th>\n",
       "      <td>-0.275580</td>\n",
       "      <td>-0.734711</td>\n",
       "      <td>0.149543</td>\n",
       "      <td>-0.684747</td>\n",
       "      <td>0.003299</td>\n",
       "      <td>0.279412</td>\n",
       "      <td>0.342757</td>\n",
       "      <td>0.154433</td>\n",
       "    </tr>\n",
       "    <tr>\n",
       "      <th>766</th>\n",
       "      <td>1.169970</td>\n",
       "      <td>-0.240048</td>\n",
       "      <td>-0.470426</td>\n",
       "      <td>-0.370859</td>\n",
       "      <td>0.159683</td>\n",
       "      <td>-0.692439</td>\n",
       "      <td>-0.844335</td>\n",
       "      <td>-1.287373</td>\n",
       "    </tr>\n",
       "    <tr>\n",
       "      <th>767</th>\n",
       "      <td>-0.870806</td>\n",
       "      <td>-0.201997</td>\n",
       "      <td>0.046215</td>\n",
       "      <td>-0.473476</td>\n",
       "      <td>-0.872451</td>\n",
       "      <td>-0.692439</td>\n",
       "      <td>-0.844335</td>\n",
       "      <td>0.655930</td>\n",
       "    </tr>\n",
       "  </tbody>\n",
       "</table>\n",
       "<p>688 rows × 8 columns</p>\n",
       "</div>"
      ],
      "text/plain": [
       "          Age       BMI  BloodPressure  DiabetesPedigreeFunction   Glucose  \\\n",
       "0    1.425067  0.203880       0.149543                  0.468187  0.847771   \n",
       "1   -0.190548 -0.683976      -0.160441                 -0.364823 -1.122665   \n",
       "2   -0.105515 -1.102537      -0.263769                  0.604004  1.942458   \n",
       "3   -1.040871 -0.493721      -0.160441                 -0.920163 -0.997558   \n",
       "5   -0.275580 -0.810813       0.252871                 -0.817546 -0.153085   \n",
       "..        ...       ...            ...                       ...       ...   \n",
       "763  2.530487  0.115094       0.356200                 -0.908090 -0.622237   \n",
       "764 -0.530677  0.609757       0.046215                 -0.398023  0.034575   \n",
       "765 -0.275580 -0.734711       0.149543                 -0.684747  0.003299   \n",
       "766  1.169970 -0.240048      -0.470426                 -0.370859  0.159683   \n",
       "767 -0.870806 -0.201997       0.046215                 -0.473476 -0.872451   \n",
       "\n",
       "      Insulin  Pregnancies  SkinThickness  \n",
       "0   -0.692439     0.639530       0.906679  \n",
       "1   -0.692439    -0.844335       0.530556  \n",
       "2   -0.692439     1.233077      -1.287373  \n",
       "3    0.123221    -0.844335       0.154433  \n",
       "5   -0.692439     0.342757      -1.287373  \n",
       "..        ...          ...            ...  \n",
       "763  0.869464     1.826623       1.721613  \n",
       "764 -0.692439    -0.547562       0.405181  \n",
       "765  0.279412     0.342757       0.154433  \n",
       "766 -0.692439    -0.844335      -1.287373  \n",
       "767 -0.692439    -0.844335       0.655930  \n",
       "\n",
       "[688 rows x 8 columns]"
      ]
     },
     "execution_count": 20,
     "metadata": {},
     "output_type": "execute_result"
    }
   ],
   "source": [
    "Z2 = Z.loc[((Z > -3).sum(axis=1)==8) & ((Z <= 3).sum(axis=1)==8),:]\n",
    "Z2\n"
   ]
  },
  {
   "cell_type": "markdown",
   "metadata": {
    "id": "XrxW8y1e9hCr"
   },
   "source": [
    "#### Shuffling dataframe\n",
    "Here, we are shuffling dataframe"
   ]
  },
  {
   "cell_type": "code",
   "execution_count": 21,
   "metadata": {
    "colab": {
     "base_uri": "https://localhost:8080/",
     "height": 424
    },
    "executionInfo": {
     "elapsed": 161,
     "status": "ok",
     "timestamp": 1696983320184,
     "user": {
      "displayName": "Phuc Dinh",
      "userId": "07487910869990873810"
     },
     "user_tz": 420
    },
    "id": "VejSp8UQBQB8",
    "outputId": "487f3a1b-bf1a-4786-ac42-edb5cc02d69e"
   },
   "outputs": [
    {
     "data": {
      "text/html": [
       "<div>\n",
       "<style scoped>\n",
       "    .dataframe tbody tr th:only-of-type {\n",
       "        vertical-align: middle;\n",
       "    }\n",
       "\n",
       "    .dataframe tbody tr th {\n",
       "        vertical-align: top;\n",
       "    }\n",
       "\n",
       "    .dataframe thead th {\n",
       "        text-align: right;\n",
       "    }\n",
       "</style>\n",
       "<table border=\"1\" class=\"dataframe\">\n",
       "  <thead>\n",
       "    <tr style=\"text-align: right;\">\n",
       "      <th></th>\n",
       "      <th>Pregnancies</th>\n",
       "      <th>Glucose</th>\n",
       "      <th>BloodPressure</th>\n",
       "      <th>SkinThickness</th>\n",
       "      <th>Insulin</th>\n",
       "      <th>BMI</th>\n",
       "      <th>DiabetesPedigreeFunction</th>\n",
       "      <th>Age</th>\n",
       "      <th>Outcome</th>\n",
       "    </tr>\n",
       "  </thead>\n",
       "  <tbody>\n",
       "    <tr>\n",
       "      <th>0</th>\n",
       "      <td>7</td>\n",
       "      <td>109</td>\n",
       "      <td>80</td>\n",
       "      <td>31</td>\n",
       "      <td>0</td>\n",
       "      <td>35.9</td>\n",
       "      <td>1.127</td>\n",
       "      <td>43</td>\n",
       "      <td>1</td>\n",
       "    </tr>\n",
       "    <tr>\n",
       "      <th>1</th>\n",
       "      <td>6</td>\n",
       "      <td>119</td>\n",
       "      <td>50</td>\n",
       "      <td>22</td>\n",
       "      <td>176</td>\n",
       "      <td>27.1</td>\n",
       "      <td>1.318</td>\n",
       "      <td>33</td>\n",
       "      <td>1</td>\n",
       "    </tr>\n",
       "    <tr>\n",
       "      <th>2</th>\n",
       "      <td>1</td>\n",
       "      <td>128</td>\n",
       "      <td>88</td>\n",
       "      <td>39</td>\n",
       "      <td>110</td>\n",
       "      <td>36.5</td>\n",
       "      <td>1.057</td>\n",
       "      <td>37</td>\n",
       "      <td>1</td>\n",
       "    </tr>\n",
       "    <tr>\n",
       "      <th>3</th>\n",
       "      <td>1</td>\n",
       "      <td>193</td>\n",
       "      <td>50</td>\n",
       "      <td>16</td>\n",
       "      <td>375</td>\n",
       "      <td>25.9</td>\n",
       "      <td>0.655</td>\n",
       "      <td>24</td>\n",
       "      <td>0</td>\n",
       "    </tr>\n",
       "    <tr>\n",
       "      <th>4</th>\n",
       "      <td>2</td>\n",
       "      <td>112</td>\n",
       "      <td>86</td>\n",
       "      <td>42</td>\n",
       "      <td>160</td>\n",
       "      <td>38.4</td>\n",
       "      <td>0.246</td>\n",
       "      <td>28</td>\n",
       "      <td>0</td>\n",
       "    </tr>\n",
       "    <tr>\n",
       "      <th>...</th>\n",
       "      <td>...</td>\n",
       "      <td>...</td>\n",
       "      <td>...</td>\n",
       "      <td>...</td>\n",
       "      <td>...</td>\n",
       "      <td>...</td>\n",
       "      <td>...</td>\n",
       "      <td>...</td>\n",
       "      <td>...</td>\n",
       "    </tr>\n",
       "    <tr>\n",
       "      <th>763</th>\n",
       "      <td>0</td>\n",
       "      <td>180</td>\n",
       "      <td>66</td>\n",
       "      <td>39</td>\n",
       "      <td>0</td>\n",
       "      <td>42.0</td>\n",
       "      <td>1.893</td>\n",
       "      <td>25</td>\n",
       "      <td>1</td>\n",
       "    </tr>\n",
       "    <tr>\n",
       "      <th>764</th>\n",
       "      <td>12</td>\n",
       "      <td>140</td>\n",
       "      <td>82</td>\n",
       "      <td>43</td>\n",
       "      <td>325</td>\n",
       "      <td>39.2</td>\n",
       "      <td>0.528</td>\n",
       "      <td>58</td>\n",
       "      <td>1</td>\n",
       "    </tr>\n",
       "    <tr>\n",
       "      <th>765</th>\n",
       "      <td>11</td>\n",
       "      <td>138</td>\n",
       "      <td>76</td>\n",
       "      <td>0</td>\n",
       "      <td>0</td>\n",
       "      <td>33.2</td>\n",
       "      <td>0.420</td>\n",
       "      <td>35</td>\n",
       "      <td>0</td>\n",
       "    </tr>\n",
       "    <tr>\n",
       "      <th>766</th>\n",
       "      <td>2</td>\n",
       "      <td>197</td>\n",
       "      <td>70</td>\n",
       "      <td>45</td>\n",
       "      <td>543</td>\n",
       "      <td>30.5</td>\n",
       "      <td>0.158</td>\n",
       "      <td>53</td>\n",
       "      <td>1</td>\n",
       "    </tr>\n",
       "    <tr>\n",
       "      <th>767</th>\n",
       "      <td>6</td>\n",
       "      <td>147</td>\n",
       "      <td>80</td>\n",
       "      <td>0</td>\n",
       "      <td>0</td>\n",
       "      <td>29.5</td>\n",
       "      <td>0.178</td>\n",
       "      <td>50</td>\n",
       "      <td>1</td>\n",
       "    </tr>\n",
       "  </tbody>\n",
       "</table>\n",
       "<p>768 rows × 9 columns</p>\n",
       "</div>"
      ],
      "text/plain": [
       "     Pregnancies  Glucose  BloodPressure  SkinThickness  Insulin   BMI  \\\n",
       "0              7      109             80             31        0  35.9   \n",
       "1              6      119             50             22      176  27.1   \n",
       "2              1      128             88             39      110  36.5   \n",
       "3              1      193             50             16      375  25.9   \n",
       "4              2      112             86             42      160  38.4   \n",
       "..           ...      ...            ...            ...      ...   ...   \n",
       "763            0      180             66             39        0  42.0   \n",
       "764           12      140             82             43      325  39.2   \n",
       "765           11      138             76              0        0  33.2   \n",
       "766            2      197             70             45      543  30.5   \n",
       "767            6      147             80              0        0  29.5   \n",
       "\n",
       "     DiabetesPedigreeFunction  Age  Outcome  \n",
       "0                       1.127   43        1  \n",
       "1                       1.318   33        1  \n",
       "2                       1.057   37        1  \n",
       "3                       0.655   24        0  \n",
       "4                       0.246   28        0  \n",
       "..                        ...  ...      ...  \n",
       "763                     1.893   25        1  \n",
       "764                     0.528   58        1  \n",
       "765                     0.420   35        0  \n",
       "766                     0.158   53        1  \n",
       "767                     0.178   50        1  \n",
       "\n",
       "[768 rows x 9 columns]"
      ]
     },
     "execution_count": 21,
     "metadata": {},
     "output_type": "execute_result"
    }
   ],
   "source": [
    "# np.random.seed(38)\n",
    "temp_df = diabetes\n",
    "temp_df = temp_df.reindex(np.random.permutation(temp_df.index))\n",
    "temp_df.reset_index(inplace=True, drop=True)\n",
    "temp_df\n"
   ]
  },
  {
   "cell_type": "markdown",
   "metadata": {
    "id": "DXRO9eeMBZ6K"
   },
   "source": [
    "#### Sorting dataframe\n",
    "The below code allows us to sort the data by 'Age' in ascending."
   ]
  },
  {
   "cell_type": "code",
   "execution_count": 22,
   "metadata": {
    "colab": {
     "base_uri": "https://localhost:8080/",
     "height": 424
    },
    "executionInfo": {
     "elapsed": 159,
     "status": "ok",
     "timestamp": 1696983322469,
     "user": {
      "displayName": "Phuc Dinh",
      "userId": "07487910869990873810"
     },
     "user_tz": 420
    },
    "id": "fWYk2wJeBY-K",
    "outputId": "81e9da32-566f-48f1-ab54-1bad7a61deda"
   },
   "outputs": [
    {
     "data": {
      "text/html": [
       "<div>\n",
       "<style scoped>\n",
       "    .dataframe tbody tr th:only-of-type {\n",
       "        vertical-align: middle;\n",
       "    }\n",
       "\n",
       "    .dataframe tbody tr th {\n",
       "        vertical-align: top;\n",
       "    }\n",
       "\n",
       "    .dataframe thead th {\n",
       "        text-align: right;\n",
       "    }\n",
       "</style>\n",
       "<table border=\"1\" class=\"dataframe\">\n",
       "  <thead>\n",
       "    <tr style=\"text-align: right;\">\n",
       "      <th></th>\n",
       "      <th>Pregnancies</th>\n",
       "      <th>Glucose</th>\n",
       "      <th>BloodPressure</th>\n",
       "      <th>SkinThickness</th>\n",
       "      <th>Insulin</th>\n",
       "      <th>BMI</th>\n",
       "      <th>DiabetesPedigreeFunction</th>\n",
       "      <th>Age</th>\n",
       "      <th>Outcome</th>\n",
       "    </tr>\n",
       "  </thead>\n",
       "  <tbody>\n",
       "    <tr>\n",
       "      <th>255</th>\n",
       "      <td>1</td>\n",
       "      <td>113</td>\n",
       "      <td>64</td>\n",
       "      <td>35</td>\n",
       "      <td>0</td>\n",
       "      <td>33.6</td>\n",
       "      <td>0.543</td>\n",
       "      <td>21</td>\n",
       "      <td>1</td>\n",
       "    </tr>\n",
       "    <tr>\n",
       "      <th>60</th>\n",
       "      <td>2</td>\n",
       "      <td>84</td>\n",
       "      <td>0</td>\n",
       "      <td>0</td>\n",
       "      <td>0</td>\n",
       "      <td>0.0</td>\n",
       "      <td>0.304</td>\n",
       "      <td>21</td>\n",
       "      <td>0</td>\n",
       "    </tr>\n",
       "    <tr>\n",
       "      <th>102</th>\n",
       "      <td>0</td>\n",
       "      <td>125</td>\n",
       "      <td>96</td>\n",
       "      <td>0</td>\n",
       "      <td>0</td>\n",
       "      <td>22.5</td>\n",
       "      <td>0.262</td>\n",
       "      <td>21</td>\n",
       "      <td>0</td>\n",
       "    </tr>\n",
       "    <tr>\n",
       "      <th>182</th>\n",
       "      <td>1</td>\n",
       "      <td>0</td>\n",
       "      <td>74</td>\n",
       "      <td>20</td>\n",
       "      <td>23</td>\n",
       "      <td>27.7</td>\n",
       "      <td>0.299</td>\n",
       "      <td>21</td>\n",
       "      <td>0</td>\n",
       "    </tr>\n",
       "    <tr>\n",
       "      <th>623</th>\n",
       "      <td>0</td>\n",
       "      <td>94</td>\n",
       "      <td>70</td>\n",
       "      <td>27</td>\n",
       "      <td>115</td>\n",
       "      <td>43.5</td>\n",
       "      <td>0.347</td>\n",
       "      <td>21</td>\n",
       "      <td>0</td>\n",
       "    </tr>\n",
       "    <tr>\n",
       "      <th>...</th>\n",
       "      <td>...</td>\n",
       "      <td>...</td>\n",
       "      <td>...</td>\n",
       "      <td>...</td>\n",
       "      <td>...</td>\n",
       "      <td>...</td>\n",
       "      <td>...</td>\n",
       "      <td>...</td>\n",
       "      <td>...</td>\n",
       "    </tr>\n",
       "    <tr>\n",
       "      <th>123</th>\n",
       "      <td>5</td>\n",
       "      <td>132</td>\n",
       "      <td>80</td>\n",
       "      <td>0</td>\n",
       "      <td>0</td>\n",
       "      <td>26.8</td>\n",
       "      <td>0.186</td>\n",
       "      <td>69</td>\n",
       "      <td>0</td>\n",
       "    </tr>\n",
       "    <tr>\n",
       "      <th>684</th>\n",
       "      <td>5</td>\n",
       "      <td>136</td>\n",
       "      <td>82</td>\n",
       "      <td>0</td>\n",
       "      <td>0</td>\n",
       "      <td>0.0</td>\n",
       "      <td>0.640</td>\n",
       "      <td>69</td>\n",
       "      <td>0</td>\n",
       "    </tr>\n",
       "    <tr>\n",
       "      <th>666</th>\n",
       "      <td>4</td>\n",
       "      <td>145</td>\n",
       "      <td>82</td>\n",
       "      <td>18</td>\n",
       "      <td>0</td>\n",
       "      <td>32.5</td>\n",
       "      <td>0.235</td>\n",
       "      <td>70</td>\n",
       "      <td>1</td>\n",
       "    </tr>\n",
       "    <tr>\n",
       "      <th>453</th>\n",
       "      <td>2</td>\n",
       "      <td>119</td>\n",
       "      <td>0</td>\n",
       "      <td>0</td>\n",
       "      <td>0</td>\n",
       "      <td>19.6</td>\n",
       "      <td>0.832</td>\n",
       "      <td>72</td>\n",
       "      <td>0</td>\n",
       "    </tr>\n",
       "    <tr>\n",
       "      <th>459</th>\n",
       "      <td>9</td>\n",
       "      <td>134</td>\n",
       "      <td>74</td>\n",
       "      <td>33</td>\n",
       "      <td>60</td>\n",
       "      <td>25.9</td>\n",
       "      <td>0.460</td>\n",
       "      <td>81</td>\n",
       "      <td>0</td>\n",
       "    </tr>\n",
       "  </tbody>\n",
       "</table>\n",
       "<p>768 rows × 9 columns</p>\n",
       "</div>"
      ],
      "text/plain": [
       "     Pregnancies  Glucose  BloodPressure  SkinThickness  Insulin   BMI  \\\n",
       "255            1      113             64             35        0  33.6   \n",
       "60             2       84              0              0        0   0.0   \n",
       "102            0      125             96              0        0  22.5   \n",
       "182            1        0             74             20       23  27.7   \n",
       "623            0       94             70             27      115  43.5   \n",
       "..           ...      ...            ...            ...      ...   ...   \n",
       "123            5      132             80              0        0  26.8   \n",
       "684            5      136             82              0        0   0.0   \n",
       "666            4      145             82             18        0  32.5   \n",
       "453            2      119              0              0        0  19.6   \n",
       "459            9      134             74             33       60  25.9   \n",
       "\n",
       "     DiabetesPedigreeFunction  Age  Outcome  \n",
       "255                     0.543   21        1  \n",
       "60                      0.304   21        0  \n",
       "102                     0.262   21        0  \n",
       "182                     0.299   21        0  \n",
       "623                     0.347   21        0  \n",
       "..                        ...  ...      ...  \n",
       "123                     0.186   69        0  \n",
       "684                     0.640   69        0  \n",
       "666                     0.235   70        1  \n",
       "453                     0.832   72        0  \n",
       "459                     0.460   81        0  \n",
       "\n",
       "[768 rows x 9 columns]"
      ]
     },
     "execution_count": 22,
     "metadata": {},
     "output_type": "execute_result"
    }
   ],
   "source": [
    "temp_df = diabetes.sort_values(by='Age', ascending=True)\n",
    "temp_df"
   ]
  },
  {
   "cell_type": "markdown",
   "metadata": {
    "id": "Y2N7l8saBdA_"
   },
   "source": [
    "#### Saving dataframe for later use\n",
    "After doing some data preprocessing, we can export the dataframe as csv for later use. We can continue the work instead of redone it."
   ]
  },
  {
   "cell_type": "code",
   "execution_count": 23,
   "metadata": {
    "id": "RCZ_hGxvBeoK"
   },
   "outputs": [],
   "source": [
    "temp_df.to_csv('data/diabetes-age-sorted.csv', index=False)"
   ]
  },
  {
   "cell_type": "markdown",
   "metadata": {
    "id": "JOCSyFox9jRE"
   },
   "source": [
    "### Dataset 4 (Mobile Phone Price)\n",
    "In this dataset, we use these techniques: removing duplicated rows, concatenating, calculated fields"
   ]
  },
  {
   "cell_type": "markdown",
   "metadata": {
    "id": "ll10IQgioIOR"
   },
   "source": [
    "#### Import data"
   ]
  },
  {
   "cell_type": "code",
   "execution_count": 24,
   "metadata": {
    "colab": {
     "base_uri": "https://localhost:8080/",
     "height": 424
    },
    "executionInfo": {
     "elapsed": 461,
     "status": "ok",
     "timestamp": 1697000896323,
     "user": {
      "displayName": "Phuc Dinh",
      "userId": "07487910869990873810"
     },
     "user_tz": 420
    },
    "id": "UgzM5KoU9mwH",
    "outputId": "8df37e27-2048-4faf-9b90-71a3e1818288"
   },
   "outputs": [
    {
     "data": {
      "text/html": [
       "<div>\n",
       "<style scoped>\n",
       "    .dataframe tbody tr th:only-of-type {\n",
       "        vertical-align: middle;\n",
       "    }\n",
       "\n",
       "    .dataframe tbody tr th {\n",
       "        vertical-align: top;\n",
       "    }\n",
       "\n",
       "    .dataframe thead th {\n",
       "        text-align: right;\n",
       "    }\n",
       "</style>\n",
       "<table border=\"1\" class=\"dataframe\">\n",
       "  <thead>\n",
       "    <tr style=\"text-align: right;\">\n",
       "      <th></th>\n",
       "      <th>Brand</th>\n",
       "      <th>Model</th>\n",
       "      <th>Storage</th>\n",
       "      <th>RAM</th>\n",
       "      <th>Screen Size (inches)</th>\n",
       "      <th>Camera (MP)</th>\n",
       "      <th>Battery Capacity (mAh)</th>\n",
       "      <th>Price ($)</th>\n",
       "    </tr>\n",
       "  </thead>\n",
       "  <tbody>\n",
       "    <tr>\n",
       "      <th>0</th>\n",
       "      <td>Apple</td>\n",
       "      <td>iPhone 13 Pro</td>\n",
       "      <td>128 GB</td>\n",
       "      <td>6 GB</td>\n",
       "      <td>6.1</td>\n",
       "      <td>12 + 12 + 12</td>\n",
       "      <td>3095</td>\n",
       "      <td>999</td>\n",
       "    </tr>\n",
       "    <tr>\n",
       "      <th>1</th>\n",
       "      <td>Samsung</td>\n",
       "      <td>Galaxy S21 Ultra</td>\n",
       "      <td>256 GB</td>\n",
       "      <td>12 GB</td>\n",
       "      <td>6.8</td>\n",
       "      <td>108 + 10 + 10 + 12</td>\n",
       "      <td>5000</td>\n",
       "      <td>1199</td>\n",
       "    </tr>\n",
       "    <tr>\n",
       "      <th>2</th>\n",
       "      <td>OnePlus</td>\n",
       "      <td>9 Pro</td>\n",
       "      <td>128 GB</td>\n",
       "      <td>8 GB</td>\n",
       "      <td>6.7</td>\n",
       "      <td>48 + 50 + 8 + 2</td>\n",
       "      <td>4500</td>\n",
       "      <td>899</td>\n",
       "    </tr>\n",
       "    <tr>\n",
       "      <th>3</th>\n",
       "      <td>Xiaomi</td>\n",
       "      <td>Redmi Note 10 Pro</td>\n",
       "      <td>128 GB</td>\n",
       "      <td>6 GB</td>\n",
       "      <td>6.67</td>\n",
       "      <td>64 + 8 + 5 + 2</td>\n",
       "      <td>5020</td>\n",
       "      <td>279</td>\n",
       "    </tr>\n",
       "    <tr>\n",
       "      <th>4</th>\n",
       "      <td>Google</td>\n",
       "      <td>Pixel 6</td>\n",
       "      <td>128 GB</td>\n",
       "      <td>8 GB</td>\n",
       "      <td>6.4</td>\n",
       "      <td>50 + 12.2</td>\n",
       "      <td>4614</td>\n",
       "      <td>799</td>\n",
       "    </tr>\n",
       "    <tr>\n",
       "      <th>...</th>\n",
       "      <td>...</td>\n",
       "      <td>...</td>\n",
       "      <td>...</td>\n",
       "      <td>...</td>\n",
       "      <td>...</td>\n",
       "      <td>...</td>\n",
       "      <td>...</td>\n",
       "      <td>...</td>\n",
       "    </tr>\n",
       "    <tr>\n",
       "      <th>402</th>\n",
       "      <td>Samsung</td>\n",
       "      <td>Galaxy Note20 5G</td>\n",
       "      <td>128</td>\n",
       "      <td>8</td>\n",
       "      <td>6.7</td>\n",
       "      <td>12+64+12</td>\n",
       "      <td>4300</td>\n",
       "      <td>1049</td>\n",
       "    </tr>\n",
       "    <tr>\n",
       "      <th>403</th>\n",
       "      <td>Xiaomi</td>\n",
       "      <td>Mi 10 Lite 5G</td>\n",
       "      <td>128</td>\n",
       "      <td>6</td>\n",
       "      <td>6.57</td>\n",
       "      <td>48+8+2+2</td>\n",
       "      <td>4160</td>\n",
       "      <td>349</td>\n",
       "    </tr>\n",
       "    <tr>\n",
       "      <th>404</th>\n",
       "      <td>Apple</td>\n",
       "      <td>iPhone 12 Pro Max</td>\n",
       "      <td>128</td>\n",
       "      <td>6</td>\n",
       "      <td>6.7</td>\n",
       "      <td>12+12+12</td>\n",
       "      <td>3687</td>\n",
       "      <td>1099</td>\n",
       "    </tr>\n",
       "    <tr>\n",
       "      <th>405</th>\n",
       "      <td>Oppo</td>\n",
       "      <td>Reno3</td>\n",
       "      <td>128</td>\n",
       "      <td>8</td>\n",
       "      <td>6.4</td>\n",
       "      <td>48+13+8+2</td>\n",
       "      <td>4025</td>\n",
       "      <td>429</td>\n",
       "    </tr>\n",
       "    <tr>\n",
       "      <th>406</th>\n",
       "      <td>Samsung</td>\n",
       "      <td>Galaxy S10 Lite</td>\n",
       "      <td>128</td>\n",
       "      <td>6</td>\n",
       "      <td>6.7</td>\n",
       "      <td>48+12+5</td>\n",
       "      <td>4500</td>\n",
       "      <td>649</td>\n",
       "    </tr>\n",
       "  </tbody>\n",
       "</table>\n",
       "<p>407 rows × 8 columns</p>\n",
       "</div>"
      ],
      "text/plain": [
       "       Brand              Model Storage    RAM  Screen Size (inches)  \\\n",
       "0      Apple      iPhone 13 Pro   128 GB   6 GB                  6.1   \n",
       "1    Samsung   Galaxy S21 Ultra   256 GB  12 GB                  6.8   \n",
       "2    OnePlus              9 Pro   128 GB   8 GB                  6.7   \n",
       "3     Xiaomi  Redmi Note 10 Pro   128 GB   6 GB                 6.67   \n",
       "4     Google            Pixel 6   128 GB   8 GB                  6.4   \n",
       "..       ...                ...      ...    ...                  ...   \n",
       "402  Samsung   Galaxy Note20 5G      128      8                  6.7   \n",
       "403   Xiaomi      Mi 10 Lite 5G      128      6                 6.57   \n",
       "404    Apple  iPhone 12 Pro Max      128      6                  6.7   \n",
       "405     Oppo              Reno3      128      8                  6.4   \n",
       "406  Samsung    Galaxy S10 Lite      128      6                  6.7   \n",
       "\n",
       "            Camera (MP)  Battery Capacity (mAh) Price ($)  \n",
       "0          12 + 12 + 12                    3095       999  \n",
       "1    108 + 10 + 10 + 12                    5000      1199  \n",
       "2       48 + 50 + 8 + 2                    4500       899  \n",
       "3        64 + 8 + 5 + 2                    5020       279  \n",
       "4             50 + 12.2                    4614       799  \n",
       "..                  ...                     ...       ...  \n",
       "402            12+64+12                    4300      1049  \n",
       "403            48+8+2+2                    4160       349  \n",
       "404            12+12+12                    3687      1099  \n",
       "405           48+13+8+2                    4025       429  \n",
       "406             48+12+5                    4500       649  \n",
       "\n",
       "[407 rows x 8 columns]"
      ]
     },
     "execution_count": 24,
     "metadata": {},
     "output_type": "execute_result"
    }
   ],
   "source": [
    "mobile_phone_price = pd.read_csv('https://raw.githubusercontent.com/dinhphucv/CSC-177/main/Data%20Preprocessing%20Project/data/Mobile_Phone_Price.csv')\n",
    "mobile_phone_price"
   ]
  },
  {
   "cell_type": "markdown",
   "metadata": {
    "id": "GyXzPtLbtcNh"
   },
   "source": [
    "#### Concatenating\n",
    "In this part, we replicate concatenating by creating multiple dataframes and concatenating them into one."
   ]
  },
  {
   "cell_type": "code",
   "execution_count": 25,
   "metadata": {
    "executionInfo": {
     "elapsed": 264,
     "status": "ok",
     "timestamp": 1697000897901,
     "user": {
      "displayName": "Phuc Dinh",
      "userId": "07487910869990873810"
     },
     "user_tz": 420
    },
    "id": "eqnBLYO3pylP"
   },
   "outputs": [],
   "source": [
    "col_brand = mobile_phone_price['Brand']\n",
    "col_model = mobile_phone_price['Model']\n",
    "col_storage = mobile_phone_price['Storage ']\n",
    "col_ram = mobile_phone_price['RAM ']\n",
    "col_price = mobile_phone_price['Price ($)']"
   ]
  },
  {
   "cell_type": "code",
   "execution_count": 26,
   "metadata": {
    "colab": {
     "base_uri": "https://localhost:8080/",
     "height": 424
    },
    "executionInfo": {
     "elapsed": 165,
     "status": "ok",
     "timestamp": 1697000899335,
     "user": {
      "displayName": "Phuc Dinh",
      "userId": "07487910869990873810"
     },
     "user_tz": 420
    },
    "id": "Bw9UTCQ6xjLI",
    "outputId": "e68bdded-8a2e-404b-cc5e-ca416c876b64"
   },
   "outputs": [
    {
     "data": {
      "text/html": [
       "<div>\n",
       "<style scoped>\n",
       "    .dataframe tbody tr th:only-of-type {\n",
       "        vertical-align: middle;\n",
       "    }\n",
       "\n",
       "    .dataframe tbody tr th {\n",
       "        vertical-align: top;\n",
       "    }\n",
       "\n",
       "    .dataframe thead th {\n",
       "        text-align: right;\n",
       "    }\n",
       "</style>\n",
       "<table border=\"1\" class=\"dataframe\">\n",
       "  <thead>\n",
       "    <tr style=\"text-align: right;\">\n",
       "      <th></th>\n",
       "      <th>Brand</th>\n",
       "      <th>Model</th>\n",
       "      <th>Storage</th>\n",
       "      <th>RAM</th>\n",
       "      <th>Price ($)</th>\n",
       "    </tr>\n",
       "  </thead>\n",
       "  <tbody>\n",
       "    <tr>\n",
       "      <th>0</th>\n",
       "      <td>Apple</td>\n",
       "      <td>iPhone 13 Pro</td>\n",
       "      <td>128 GB</td>\n",
       "      <td>6 GB</td>\n",
       "      <td>999</td>\n",
       "    </tr>\n",
       "    <tr>\n",
       "      <th>1</th>\n",
       "      <td>Samsung</td>\n",
       "      <td>Galaxy S21 Ultra</td>\n",
       "      <td>256 GB</td>\n",
       "      <td>12 GB</td>\n",
       "      <td>1199</td>\n",
       "    </tr>\n",
       "    <tr>\n",
       "      <th>2</th>\n",
       "      <td>OnePlus</td>\n",
       "      <td>9 Pro</td>\n",
       "      <td>128 GB</td>\n",
       "      <td>8 GB</td>\n",
       "      <td>899</td>\n",
       "    </tr>\n",
       "    <tr>\n",
       "      <th>3</th>\n",
       "      <td>Xiaomi</td>\n",
       "      <td>Redmi Note 10 Pro</td>\n",
       "      <td>128 GB</td>\n",
       "      <td>6 GB</td>\n",
       "      <td>279</td>\n",
       "    </tr>\n",
       "    <tr>\n",
       "      <th>4</th>\n",
       "      <td>Google</td>\n",
       "      <td>Pixel 6</td>\n",
       "      <td>128 GB</td>\n",
       "      <td>8 GB</td>\n",
       "      <td>799</td>\n",
       "    </tr>\n",
       "    <tr>\n",
       "      <th>...</th>\n",
       "      <td>...</td>\n",
       "      <td>...</td>\n",
       "      <td>...</td>\n",
       "      <td>...</td>\n",
       "      <td>...</td>\n",
       "    </tr>\n",
       "    <tr>\n",
       "      <th>402</th>\n",
       "      <td>Samsung</td>\n",
       "      <td>Galaxy Note20 5G</td>\n",
       "      <td>128</td>\n",
       "      <td>8</td>\n",
       "      <td>1049</td>\n",
       "    </tr>\n",
       "    <tr>\n",
       "      <th>403</th>\n",
       "      <td>Xiaomi</td>\n",
       "      <td>Mi 10 Lite 5G</td>\n",
       "      <td>128</td>\n",
       "      <td>6</td>\n",
       "      <td>349</td>\n",
       "    </tr>\n",
       "    <tr>\n",
       "      <th>404</th>\n",
       "      <td>Apple</td>\n",
       "      <td>iPhone 12 Pro Max</td>\n",
       "      <td>128</td>\n",
       "      <td>6</td>\n",
       "      <td>1099</td>\n",
       "    </tr>\n",
       "    <tr>\n",
       "      <th>405</th>\n",
       "      <td>Oppo</td>\n",
       "      <td>Reno3</td>\n",
       "      <td>128</td>\n",
       "      <td>8</td>\n",
       "      <td>429</td>\n",
       "    </tr>\n",
       "    <tr>\n",
       "      <th>406</th>\n",
       "      <td>Samsung</td>\n",
       "      <td>Galaxy S10 Lite</td>\n",
       "      <td>128</td>\n",
       "      <td>6</td>\n",
       "      <td>649</td>\n",
       "    </tr>\n",
       "  </tbody>\n",
       "</table>\n",
       "<p>407 rows × 5 columns</p>\n",
       "</div>"
      ],
      "text/plain": [
       "       Brand              Model Storage    RAM  Price ($)\n",
       "0      Apple      iPhone 13 Pro   128 GB   6 GB       999\n",
       "1    Samsung   Galaxy S21 Ultra   256 GB  12 GB      1199\n",
       "2    OnePlus              9 Pro   128 GB   8 GB       899\n",
       "3     Xiaomi  Redmi Note 10 Pro   128 GB   6 GB       279\n",
       "4     Google            Pixel 6   128 GB   8 GB       799\n",
       "..       ...                ...      ...    ...       ...\n",
       "402  Samsung   Galaxy Note20 5G      128      8      1049\n",
       "403   Xiaomi      Mi 10 Lite 5G      128      6       349\n",
       "404    Apple  iPhone 12 Pro Max      128      6      1099\n",
       "405     Oppo              Reno3      128      8       429\n",
       "406  Samsung    Galaxy S10 Lite      128      6       649\n",
       "\n",
       "[407 rows x 5 columns]"
      ]
     },
     "execution_count": 26,
     "metadata": {},
     "output_type": "execute_result"
    }
   ],
   "source": [
    "result = pd.concat([col_brand, col_model, col_storage, col_ram, col_price],axis=1)\n",
    "result"
   ]
  },
  {
   "cell_type": "markdown",
   "metadata": {
    "id": "efP7qHZEyK47"
   },
   "source": [
    "#### Removing certain characters in certain columns\n",
    "As we see from the above tabular, the values for Storage, RAM, and Price are not formatted consistently. Some have 'GB', and some do not. The same thing happened with the Price column but with the character '$'. The below code is used to remove that inconsistency."
   ]
  },
  {
   "cell_type": "code",
   "execution_count": 27,
   "metadata": {
    "colab": {
     "base_uri": "https://localhost:8080/"
    },
    "executionInfo": {
     "elapsed": 147,
     "status": "ok",
     "timestamp": 1697000901316,
     "user": {
      "displayName": "Phuc Dinh",
      "userId": "07487910869990873810"
     },
     "user_tz": 420
    },
    "id": "7enL-YOUyLY1",
    "outputId": "a7d0babf-9e6e-4985-b5cf-4aadee222400"
   },
   "outputs": [
    {
     "name": "stdout",
     "output_type": "stream",
     "text": [
      "<class 'pandas.core.frame.DataFrame'>\n",
      "RangeIndex: 407 entries, 0 to 406\n",
      "Data columns (total 5 columns):\n",
      " #   Column     Non-Null Count  Dtype \n",
      "---  ------     --------------  ----- \n",
      " 0   Brand      407 non-null    object\n",
      " 1   Model      407 non-null    object\n",
      " 2   Storage    407 non-null    object\n",
      " 3   RAM        407 non-null    object\n",
      " 4   Price ($)  407 non-null    object\n",
      "dtypes: object(5)\n",
      "memory usage: 16.0+ KB\n"
     ]
    }
   ],
   "source": [
    "result.info()\n",
    "for column in ['Storage ', 'RAM ']:\n",
    "  result[column] = result[column].str.replace(r' ?GB', '', regex=True)\n",
    "result['Price ($)'] = result['Price ($)'].str.replace('[$,]', '', regex=True)"
   ]
  },
  {
   "cell_type": "markdown",
   "metadata": {
    "id": "MxwpUlmW0Tp4"
   },
   "source": [
    "#### Convert to numeric data type\n",
    "After removing the inconsistent, the dtype of those columns is still an object. The below code is used to convert them back to numeric. If any non-numerics are still left in those columns, errors will occur. If it ran successfully, we converted them to numeric data type."
   ]
  },
  {
   "cell_type": "code",
   "execution_count": 28,
   "metadata": {
    "colab": {
     "base_uri": "https://localhost:8080/"
    },
    "executionInfo": {
     "elapsed": 190,
     "status": "ok",
     "timestamp": 1697000902819,
     "user": {
      "displayName": "Phuc Dinh",
      "userId": "07487910869990873810"
     },
     "user_tz": 420
    },
    "id": "_ICs3WAm0YBC",
    "outputId": "36c898b0-89d1-4828-968d-c972328f586f"
   },
   "outputs": [
    {
     "name": "stdout",
     "output_type": "stream",
     "text": [
      "<class 'pandas.core.frame.DataFrame'>\n",
      "RangeIndex: 407 entries, 0 to 406\n",
      "Data columns (total 5 columns):\n",
      " #   Column     Non-Null Count  Dtype \n",
      "---  ------     --------------  ----- \n",
      " 0   Brand      407 non-null    object\n",
      " 1   Model      407 non-null    object\n",
      " 2   Storage    407 non-null    int64 \n",
      " 3   RAM        407 non-null    int64 \n",
      " 4   Price ($)  407 non-null    int64 \n",
      "dtypes: int64(3), object(2)\n",
      "memory usage: 16.0+ KB\n"
     ]
    }
   ],
   "source": [
    "for column in ['Storage ', 'RAM ', 'Price ($)']:\n",
    "  result[column] = pd.to_numeric(result[column])\n",
    "result.info()"
   ]
  },
  {
   "cell_type": "markdown",
   "metadata": {
    "id": "iXih7tbJw0_W"
   },
   "source": [
    "#### Check and remove duplicated rows\n",
    "In this step, we remove duplicated rows. We decided to do this after removing inconsistent and converting as there's a chance the collecter accidentally recollected the data and added inconsistent to it."
   ]
  },
  {
   "cell_type": "code",
   "execution_count": 29,
   "metadata": {
    "colab": {
     "base_uri": "https://localhost:8080/"
    },
    "executionInfo": {
     "elapsed": 165,
     "status": "ok",
     "timestamp": 1697000906942,
     "user": {
      "displayName": "Phuc Dinh",
      "userId": "07487910869990873810"
     },
     "user_tz": 420
    },
    "id": "AxCizp-UrYk4",
    "outputId": "76810364-73fe-49b7-db8d-a5840bdef0bf"
   },
   "outputs": [
    {
     "name": "stdout",
     "output_type": "stream",
     "text": [
      "Duplicated rows in 'result' dataset: 60\n"
     ]
    }
   ],
   "source": [
    "print('Duplicated rows in \\'result\\' dataset:', result.duplicated().sum())\n",
    "if result.duplicated().sum() > 0:\n",
    "  result.drop_duplicates(inplace=True)"
   ]
  },
  {
   "cell_type": "markdown",
   "metadata": {
    "id": "qIw73hfzDccx"
   },
   "source": [
    "#### Calculated Fields\n",
    "After removing all the duplicated, we can add a calculated field into the current dataframe. Here we add a new column 'Price (in VND)' and it will be calculated from 'Price ($)'. In this piece of code, we also use round() to round the output as Vietnamese currency is always integer."
   ]
  },
  {
   "cell_type": "code",
   "execution_count": 30,
   "metadata": {
    "colab": {
     "base_uri": "https://localhost:8080/",
     "height": 424
    },
    "executionInfo": {
     "elapsed": 157,
     "status": "ok",
     "timestamp": 1697000908729,
     "user": {
      "displayName": "Phuc Dinh",
      "userId": "07487910869990873810"
     },
     "user_tz": 420
    },
    "id": "piceQWMoEFsv",
    "outputId": "96b8a0f2-bd84-4c1a-d264-882551600f10"
   },
   "outputs": [
    {
     "data": {
      "text/html": [
       "<div>\n",
       "<style scoped>\n",
       "    .dataframe tbody tr th:only-of-type {\n",
       "        vertical-align: middle;\n",
       "    }\n",
       "\n",
       "    .dataframe tbody tr th {\n",
       "        vertical-align: top;\n",
       "    }\n",
       "\n",
       "    .dataframe thead th {\n",
       "        text-align: right;\n",
       "    }\n",
       "</style>\n",
       "<table border=\"1\" class=\"dataframe\">\n",
       "  <thead>\n",
       "    <tr style=\"text-align: right;\">\n",
       "      <th></th>\n",
       "      <th>Brand</th>\n",
       "      <th>Model</th>\n",
       "      <th>Storage</th>\n",
       "      <th>RAM</th>\n",
       "      <th>Price ($)</th>\n",
       "      <th>Price (VND)</th>\n",
       "    </tr>\n",
       "  </thead>\n",
       "  <tbody>\n",
       "    <tr>\n",
       "      <th>0</th>\n",
       "      <td>Apple</td>\n",
       "      <td>iPhone 13 Pro</td>\n",
       "      <td>128</td>\n",
       "      <td>6</td>\n",
       "      <td>999</td>\n",
       "      <td>24408068</td>\n",
       "    </tr>\n",
       "    <tr>\n",
       "      <th>1</th>\n",
       "      <td>Samsung</td>\n",
       "      <td>Galaxy S21 Ultra</td>\n",
       "      <td>256</td>\n",
       "      <td>12</td>\n",
       "      <td>1199</td>\n",
       "      <td>29294568</td>\n",
       "    </tr>\n",
       "    <tr>\n",
       "      <th>2</th>\n",
       "      <td>OnePlus</td>\n",
       "      <td>9 Pro</td>\n",
       "      <td>128</td>\n",
       "      <td>8</td>\n",
       "      <td>899</td>\n",
       "      <td>21964818</td>\n",
       "    </tr>\n",
       "    <tr>\n",
       "      <th>3</th>\n",
       "      <td>Xiaomi</td>\n",
       "      <td>Redmi Note 10 Pro</td>\n",
       "      <td>128</td>\n",
       "      <td>6</td>\n",
       "      <td>279</td>\n",
       "      <td>6816668</td>\n",
       "    </tr>\n",
       "    <tr>\n",
       "      <th>4</th>\n",
       "      <td>Google</td>\n",
       "      <td>Pixel 6</td>\n",
       "      <td>128</td>\n",
       "      <td>8</td>\n",
       "      <td>799</td>\n",
       "      <td>19521568</td>\n",
       "    </tr>\n",
       "    <tr>\n",
       "      <th>...</th>\n",
       "      <td>...</td>\n",
       "      <td>...</td>\n",
       "      <td>...</td>\n",
       "      <td>...</td>\n",
       "      <td>...</td>\n",
       "      <td>...</td>\n",
       "    </tr>\n",
       "    <tr>\n",
       "      <th>401</th>\n",
       "      <td>Huawei</td>\n",
       "      <td>P30 Lite</td>\n",
       "      <td>128</td>\n",
       "      <td>4</td>\n",
       "      <td>329</td>\n",
       "      <td>8038292</td>\n",
       "    </tr>\n",
       "    <tr>\n",
       "      <th>402</th>\n",
       "      <td>Samsung</td>\n",
       "      <td>Galaxy Note20 5G</td>\n",
       "      <td>128</td>\n",
       "      <td>8</td>\n",
       "      <td>1049</td>\n",
       "      <td>25629692</td>\n",
       "    </tr>\n",
       "    <tr>\n",
       "      <th>403</th>\n",
       "      <td>Xiaomi</td>\n",
       "      <td>Mi 10 Lite 5G</td>\n",
       "      <td>128</td>\n",
       "      <td>6</td>\n",
       "      <td>349</td>\n",
       "      <td>8526942</td>\n",
       "    </tr>\n",
       "    <tr>\n",
       "      <th>404</th>\n",
       "      <td>Apple</td>\n",
       "      <td>iPhone 12 Pro Max</td>\n",
       "      <td>128</td>\n",
       "      <td>6</td>\n",
       "      <td>1099</td>\n",
       "      <td>26851318</td>\n",
       "    </tr>\n",
       "    <tr>\n",
       "      <th>405</th>\n",
       "      <td>Oppo</td>\n",
       "      <td>Reno3</td>\n",
       "      <td>128</td>\n",
       "      <td>8</td>\n",
       "      <td>429</td>\n",
       "      <td>10481542</td>\n",
       "    </tr>\n",
       "  </tbody>\n",
       "</table>\n",
       "<p>347 rows × 6 columns</p>\n",
       "</div>"
      ],
      "text/plain": [
       "       Brand              Model  Storage   RAM   Price ($)  Price (VND)\n",
       "0      Apple      iPhone 13 Pro       128     6        999     24408068\n",
       "1    Samsung   Galaxy S21 Ultra       256    12       1199     29294568\n",
       "2    OnePlus              9 Pro       128     8        899     21964818\n",
       "3     Xiaomi  Redmi Note 10 Pro       128     6        279      6816668\n",
       "4     Google            Pixel 6       128     8        799     19521568\n",
       "..       ...                ...       ...   ...        ...          ...\n",
       "401   Huawei           P30 Lite       128     4        329      8038292\n",
       "402  Samsung   Galaxy Note20 5G       128     8       1049     25629692\n",
       "403   Xiaomi      Mi 10 Lite 5G       128     6        349      8526942\n",
       "404    Apple  iPhone 12 Pro Max       128     6       1099     26851318\n",
       "405     Oppo              Reno3       128     8        429     10481542\n",
       "\n",
       "[347 rows x 6 columns]"
      ]
     },
     "execution_count": 30,
     "metadata": {},
     "output_type": "execute_result"
    }
   ],
   "source": [
    "result.insert(len(result.columns),'Price (VND)', (result['Price ($)']*24432.50).round().astype(int))\n",
    "result"
   ]
  },
  {
   "cell_type": "markdown",
   "metadata": {
    "id": "_zexek10HrwD"
   },
   "source": [
    "#### Feature Normalization\n",
    "In this step, I use the zscore function to calculate the zscore of 'RAM' and 'Price ($)'. These new values will help us to easily idicate whether the spec, price is below, near, or above the average. We decided to didn't calculate the zscore for Price in VND as it is just a calculated from other field and also has some rouding."
   ]
  },
  {
   "cell_type": "code",
   "execution_count": 31,
   "metadata": {
    "colab": {
     "base_uri": "https://localhost:8080/",
     "height": 424
    },
    "executionInfo": {
     "elapsed": 160,
     "status": "ok",
     "timestamp": 1697000910788,
     "user": {
      "displayName": "Phuc Dinh",
      "userId": "07487910869990873810"
     },
     "user_tz": 420
    },
    "id": "kPqR-omqHt20",
    "outputId": "d57cc4d0-9716-42f9-b793-5845c4c65670"
   },
   "outputs": [
    {
     "data": {
      "text/html": [
       "<div>\n",
       "<style scoped>\n",
       "    .dataframe tbody tr th:only-of-type {\n",
       "        vertical-align: middle;\n",
       "    }\n",
       "\n",
       "    .dataframe tbody tr th {\n",
       "        vertical-align: top;\n",
       "    }\n",
       "\n",
       "    .dataframe thead th {\n",
       "        text-align: right;\n",
       "    }\n",
       "</style>\n",
       "<table border=\"1\" class=\"dataframe\">\n",
       "  <thead>\n",
       "    <tr style=\"text-align: right;\">\n",
       "      <th></th>\n",
       "      <th>Brand</th>\n",
       "      <th>Model</th>\n",
       "      <th>Storage</th>\n",
       "      <th>RAM</th>\n",
       "      <th>Price ($)</th>\n",
       "      <th>Price (VND)</th>\n",
       "    </tr>\n",
       "  </thead>\n",
       "  <tbody>\n",
       "    <tr>\n",
       "      <th>0</th>\n",
       "      <td>Apple</td>\n",
       "      <td>iPhone 13 Pro</td>\n",
       "      <td>128</td>\n",
       "      <td>0.045702</td>\n",
       "      <td>1.909644</td>\n",
       "      <td>24408068</td>\n",
       "    </tr>\n",
       "    <tr>\n",
       "      <th>1</th>\n",
       "      <td>Samsung</td>\n",
       "      <td>Galaxy S21 Ultra</td>\n",
       "      <td>256</td>\n",
       "      <td>2.485475</td>\n",
       "      <td>2.558537</td>\n",
       "      <td>29294568</td>\n",
       "    </tr>\n",
       "    <tr>\n",
       "      <th>2</th>\n",
       "      <td>OnePlus</td>\n",
       "      <td>9 Pro</td>\n",
       "      <td>128</td>\n",
       "      <td>0.858959</td>\n",
       "      <td>1.585197</td>\n",
       "      <td>21964818</td>\n",
       "    </tr>\n",
       "    <tr>\n",
       "      <th>3</th>\n",
       "      <td>Xiaomi</td>\n",
       "      <td>Redmi Note 10 Pro</td>\n",
       "      <td>128</td>\n",
       "      <td>0.045702</td>\n",
       "      <td>-0.426371</td>\n",
       "      <td>6816668</td>\n",
       "    </tr>\n",
       "    <tr>\n",
       "      <th>4</th>\n",
       "      <td>Google</td>\n",
       "      <td>Pixel 6</td>\n",
       "      <td>128</td>\n",
       "      <td>0.858959</td>\n",
       "      <td>1.260751</td>\n",
       "      <td>19521568</td>\n",
       "    </tr>\n",
       "    <tr>\n",
       "      <th>...</th>\n",
       "      <td>...</td>\n",
       "      <td>...</td>\n",
       "      <td>...</td>\n",
       "      <td>...</td>\n",
       "      <td>...</td>\n",
       "      <td>...</td>\n",
       "    </tr>\n",
       "    <tr>\n",
       "      <th>401</th>\n",
       "      <td>Huawei</td>\n",
       "      <td>P30 Lite</td>\n",
       "      <td>128</td>\n",
       "      <td>-0.767556</td>\n",
       "      <td>-0.264148</td>\n",
       "      <td>8038292</td>\n",
       "    </tr>\n",
       "    <tr>\n",
       "      <th>402</th>\n",
       "      <td>Samsung</td>\n",
       "      <td>Galaxy Note20 5G</td>\n",
       "      <td>128</td>\n",
       "      <td>0.858959</td>\n",
       "      <td>2.071867</td>\n",
       "      <td>25629692</td>\n",
       "    </tr>\n",
       "    <tr>\n",
       "      <th>403</th>\n",
       "      <td>Xiaomi</td>\n",
       "      <td>Mi 10 Lite 5G</td>\n",
       "      <td>128</td>\n",
       "      <td>0.045702</td>\n",
       "      <td>-0.199259</td>\n",
       "      <td>8526942</td>\n",
       "    </tr>\n",
       "    <tr>\n",
       "      <th>404</th>\n",
       "      <td>Apple</td>\n",
       "      <td>iPhone 12 Pro Max</td>\n",
       "      <td>128</td>\n",
       "      <td>0.045702</td>\n",
       "      <td>2.234090</td>\n",
       "      <td>26851318</td>\n",
       "    </tr>\n",
       "    <tr>\n",
       "      <th>405</th>\n",
       "      <td>Oppo</td>\n",
       "      <td>Reno3</td>\n",
       "      <td>128</td>\n",
       "      <td>0.858959</td>\n",
       "      <td>0.060298</td>\n",
       "      <td>10481542</td>\n",
       "    </tr>\n",
       "  </tbody>\n",
       "</table>\n",
       "<p>347 rows × 6 columns</p>\n",
       "</div>"
      ],
      "text/plain": [
       "       Brand              Model  Storage       RAM   Price ($)  Price (VND)\n",
       "0      Apple      iPhone 13 Pro       128  0.045702   1.909644     24408068\n",
       "1    Samsung   Galaxy S21 Ultra       256  2.485475   2.558537     29294568\n",
       "2    OnePlus              9 Pro       128  0.858959   1.585197     21964818\n",
       "3     Xiaomi  Redmi Note 10 Pro       128  0.045702  -0.426371      6816668\n",
       "4     Google            Pixel 6       128  0.858959   1.260751     19521568\n",
       "..       ...                ...       ...       ...        ...          ...\n",
       "401   Huawei           P30 Lite       128 -0.767556  -0.264148      8038292\n",
       "402  Samsung   Galaxy Note20 5G       128  0.858959   2.071867     25629692\n",
       "403   Xiaomi      Mi 10 Lite 5G       128  0.045702  -0.199259      8526942\n",
       "404    Apple  iPhone 12 Pro Max       128  0.045702   2.234090     26851318\n",
       "405     Oppo              Reno3       128  0.858959   0.060298     10481542\n",
       "\n",
       "[347 rows x 6 columns]"
      ]
     },
     "execution_count": 31,
     "metadata": {},
     "output_type": "execute_result"
    }
   ],
   "source": [
    "result['RAM '] = zscore(result['RAM '])\n",
    "result['Price ($)'] = zscore(result['Price ($)'])\n",
    "result"
   ]
  },
  {
   "cell_type": "markdown",
   "metadata": {
    "id": "RgrUomVj-dxA"
   },
   "source": [
    "## Data split\n",
    "In this part, we decided to work with our diabetes dataset as the dataset is pretty much clean and we want to predict diabetes based on other attribute. Here we use all of the columns exept the Outcome as x. And the Outcome column for Y. We split the data, 75% for training and 25% for testing"
   ]
  },
  {
   "cell_type": "code",
   "execution_count": 32,
   "metadata": {
    "colab": {
     "base_uri": "https://localhost:8080/",
     "height": 424
    },
    "executionInfo": {
     "elapsed": 217,
     "status": "ok",
     "timestamp": 1697003999474,
     "user": {
      "displayName": "Phuc Dinh",
      "userId": "07487910869990873810"
     },
     "user_tz": 420
    },
    "id": "v7ur0CWv-hAO",
    "outputId": "e3cf73c7-b6c5-4e60-d510-db8ad3a8e008"
   },
   "outputs": [
    {
     "data": {
      "text/html": [
       "<div>\n",
       "<style scoped>\n",
       "    .dataframe tbody tr th:only-of-type {\n",
       "        vertical-align: middle;\n",
       "    }\n",
       "\n",
       "    .dataframe tbody tr th {\n",
       "        vertical-align: top;\n",
       "    }\n",
       "\n",
       "    .dataframe thead th {\n",
       "        text-align: right;\n",
       "    }\n",
       "</style>\n",
       "<table border=\"1\" class=\"dataframe\">\n",
       "  <thead>\n",
       "    <tr style=\"text-align: right;\">\n",
       "      <th></th>\n",
       "      <th>Pregnancies</th>\n",
       "      <th>Glucose</th>\n",
       "      <th>BloodPressure</th>\n",
       "      <th>SkinThickness</th>\n",
       "      <th>Insulin</th>\n",
       "      <th>BMI</th>\n",
       "      <th>DiabetesPedigreeFunction</th>\n",
       "      <th>Age</th>\n",
       "      <th>Outcome</th>\n",
       "    </tr>\n",
       "  </thead>\n",
       "  <tbody>\n",
       "    <tr>\n",
       "      <th>0</th>\n",
       "      <td>6</td>\n",
       "      <td>148</td>\n",
       "      <td>72</td>\n",
       "      <td>35</td>\n",
       "      <td>0</td>\n",
       "      <td>33.6</td>\n",
       "      <td>0.627</td>\n",
       "      <td>50</td>\n",
       "      <td>1</td>\n",
       "    </tr>\n",
       "    <tr>\n",
       "      <th>1</th>\n",
       "      <td>1</td>\n",
       "      <td>85</td>\n",
       "      <td>66</td>\n",
       "      <td>29</td>\n",
       "      <td>0</td>\n",
       "      <td>26.6</td>\n",
       "      <td>0.351</td>\n",
       "      <td>31</td>\n",
       "      <td>0</td>\n",
       "    </tr>\n",
       "    <tr>\n",
       "      <th>2</th>\n",
       "      <td>8</td>\n",
       "      <td>183</td>\n",
       "      <td>64</td>\n",
       "      <td>0</td>\n",
       "      <td>0</td>\n",
       "      <td>23.3</td>\n",
       "      <td>0.672</td>\n",
       "      <td>32</td>\n",
       "      <td>1</td>\n",
       "    </tr>\n",
       "    <tr>\n",
       "      <th>3</th>\n",
       "      <td>1</td>\n",
       "      <td>89</td>\n",
       "      <td>66</td>\n",
       "      <td>23</td>\n",
       "      <td>94</td>\n",
       "      <td>28.1</td>\n",
       "      <td>0.167</td>\n",
       "      <td>21</td>\n",
       "      <td>0</td>\n",
       "    </tr>\n",
       "    <tr>\n",
       "      <th>4</th>\n",
       "      <td>0</td>\n",
       "      <td>137</td>\n",
       "      <td>40</td>\n",
       "      <td>35</td>\n",
       "      <td>168</td>\n",
       "      <td>43.1</td>\n",
       "      <td>2.288</td>\n",
       "      <td>33</td>\n",
       "      <td>1</td>\n",
       "    </tr>\n",
       "    <tr>\n",
       "      <th>...</th>\n",
       "      <td>...</td>\n",
       "      <td>...</td>\n",
       "      <td>...</td>\n",
       "      <td>...</td>\n",
       "      <td>...</td>\n",
       "      <td>...</td>\n",
       "      <td>...</td>\n",
       "      <td>...</td>\n",
       "      <td>...</td>\n",
       "    </tr>\n",
       "    <tr>\n",
       "      <th>763</th>\n",
       "      <td>10</td>\n",
       "      <td>101</td>\n",
       "      <td>76</td>\n",
       "      <td>48</td>\n",
       "      <td>180</td>\n",
       "      <td>32.9</td>\n",
       "      <td>0.171</td>\n",
       "      <td>63</td>\n",
       "      <td>0</td>\n",
       "    </tr>\n",
       "    <tr>\n",
       "      <th>764</th>\n",
       "      <td>2</td>\n",
       "      <td>122</td>\n",
       "      <td>70</td>\n",
       "      <td>27</td>\n",
       "      <td>0</td>\n",
       "      <td>36.8</td>\n",
       "      <td>0.340</td>\n",
       "      <td>27</td>\n",
       "      <td>0</td>\n",
       "    </tr>\n",
       "    <tr>\n",
       "      <th>765</th>\n",
       "      <td>5</td>\n",
       "      <td>121</td>\n",
       "      <td>72</td>\n",
       "      <td>23</td>\n",
       "      <td>112</td>\n",
       "      <td>26.2</td>\n",
       "      <td>0.245</td>\n",
       "      <td>30</td>\n",
       "      <td>0</td>\n",
       "    </tr>\n",
       "    <tr>\n",
       "      <th>766</th>\n",
       "      <td>1</td>\n",
       "      <td>126</td>\n",
       "      <td>60</td>\n",
       "      <td>0</td>\n",
       "      <td>0</td>\n",
       "      <td>30.1</td>\n",
       "      <td>0.349</td>\n",
       "      <td>47</td>\n",
       "      <td>1</td>\n",
       "    </tr>\n",
       "    <tr>\n",
       "      <th>767</th>\n",
       "      <td>1</td>\n",
       "      <td>93</td>\n",
       "      <td>70</td>\n",
       "      <td>31</td>\n",
       "      <td>0</td>\n",
       "      <td>30.4</td>\n",
       "      <td>0.315</td>\n",
       "      <td>23</td>\n",
       "      <td>0</td>\n",
       "    </tr>\n",
       "  </tbody>\n",
       "</table>\n",
       "<p>768 rows × 9 columns</p>\n",
       "</div>"
      ],
      "text/plain": [
       "     Pregnancies  Glucose  BloodPressure  SkinThickness  Insulin   BMI  \\\n",
       "0              6      148             72             35        0  33.6   \n",
       "1              1       85             66             29        0  26.6   \n",
       "2              8      183             64              0        0  23.3   \n",
       "3              1       89             66             23       94  28.1   \n",
       "4              0      137             40             35      168  43.1   \n",
       "..           ...      ...            ...            ...      ...   ...   \n",
       "763           10      101             76             48      180  32.9   \n",
       "764            2      122             70             27        0  36.8   \n",
       "765            5      121             72             23      112  26.2   \n",
       "766            1      126             60              0        0  30.1   \n",
       "767            1       93             70             31        0  30.4   \n",
       "\n",
       "     DiabetesPedigreeFunction  Age  Outcome  \n",
       "0                       0.627   50        1  \n",
       "1                       0.351   31        0  \n",
       "2                       0.672   32        1  \n",
       "3                       0.167   21        0  \n",
       "4                       2.288   33        1  \n",
       "..                        ...  ...      ...  \n",
       "763                     0.171   63        0  \n",
       "764                     0.340   27        0  \n",
       "765                     0.245   30        0  \n",
       "766                     0.349   47        1  \n",
       "767                     0.315   23        0  \n",
       "\n",
       "[768 rows x 9 columns]"
      ]
     },
     "execution_count": 32,
     "metadata": {},
     "output_type": "execute_result"
    }
   ],
   "source": [
    "diabetes = pd.read_csv('https://raw.githubusercontent.com/dinhphucv/CSC-177/main/Data%20Preprocessing%20Project/data/diabetes.csv')\n",
    "diabetes"
   ]
  },
  {
   "cell_type": "code",
   "execution_count": 33,
   "metadata": {
    "executionInfo": {
     "elapsed": 156,
     "status": "ok",
     "timestamp": 1697004323534,
     "user": {
      "displayName": "Phuc Dinh",
      "userId": "07487910869990873810"
     },
     "user_tz": 420
    },
    "id": "TkzX-VM0Ufj6"
   },
   "outputs": [],
   "source": [
    "x = diabetes[diabetes.columns.difference(['Outcome'])]\n",
    "y = diabetes['Outcome']\n",
    "x_train, x_test, y_train, y_test = train_test_split(x, y, test_size=0.25, random_state=12)"
   ]
  },
  {
   "cell_type": "markdown",
   "metadata": {
    "id": "xG4VqRCjaRz1"
   },
   "source": [
    "The below code is used to calculating the mean and std of certain columns in both training and testing set."
   ]
  },
  {
   "cell_type": "code",
   "execution_count": 34,
   "metadata": {
    "colab": {
     "base_uri": "https://localhost:8080/"
    },
    "executionInfo": {
     "elapsed": 135,
     "status": "ok",
     "timestamp": 1697005139726,
     "user": {
      "displayName": "Phuc Dinh",
      "userId": "07487910869990873810"
     },
     "user_tz": 420
    },
    "id": "v7Tb7zsWWj-v",
    "outputId": "c16dbb2b-a42c-4695-c8cb-5fe02a5627d1"
   },
   "outputs": [
    {
     "name": "stdout",
     "output_type": "stream",
     "text": [
      "Glucose\n",
      "\tTraining set mean: 120.52604166666667\n",
      "\tTesting set mean: 122.0\n",
      "\tTraining set std: 31.30199630736171\n",
      "\tTesting set std: 33.96625982181027\n",
      "BloodPressure\n",
      "\tTraining set mean: 68.94965277777777\n",
      "\tTesting set mean: 69.57291666666667\n",
      "\tTraining set std: 19.113006722286883\n",
      "\tTesting set std: 20.110555584040394\n",
      "SkinThickness\n",
      "\tTraining set mean: 20.73263888888889\n",
      "\tTesting set mean: 19.947916666666668\n",
      "\tTraining set std: 15.694852459319465\n",
      "\tTesting set std: 16.72905100325358\n",
      "Insulin\n",
      "\tTraining set mean: 81.27256944444444\n",
      "\tTesting set mean: 75.38020833333333\n",
      "\tTraining set std: 115.65762221613798\n",
      "\tTesting set std: 114.17978027672025\n",
      "BMI\n",
      "\tTraining set mean: 32.01597222222222\n",
      "\tTesting set mean: 31.922395833333336\n",
      "\tTraining set std: 8.125176445501436\n",
      "\tTesting set std: 7.131822974665879\n",
      "DiabetesPedigreeFunction\n",
      "\tTraining set mean: 0.4719513888888889\n",
      "\tTesting set mean: 0.47165104166666666\n",
      "\tTraining set std: 0.3358161055745912\n",
      "\tTesting set std: 0.3183402606796537\n"
     ]
    }
   ],
   "source": [
    "feature_columns = ['Glucose', 'BloodPressure', 'SkinThickness', 'Insulin', 'BMI', 'DiabetesPedigreeFunction']\n",
    "for column in feature_columns:\n",
    "  print(column)\n",
    "  print('\\tTraining set mean:', x_train[column].mean())\n",
    "  print('\\tTesting set mean:', x_test[column].mean())\n",
    "  print('\\tTraining set std:', x_train[column].std())\n",
    "  print('\\tTesting set std:', x_test[column].std())"
   ]
  },
  {
   "cell_type": "markdown",
   "metadata": {
    "id": "WNe735fnUfEQ"
   },
   "source": [
    "### Mean and Std results (incase rerun change the data result):"
   ]
  },
  {
   "cell_type": "markdown",
   "metadata": {
    "id": "8v_nxe5ubNZb"
   },
   "source": [
    "Glucose\\\n",
    "********Training set mean: 120.52604166666667\\\n",
    "********Testing set mean: 122.0\\\n",
    "********Training set std: 31.301996307361723\\\n",
    "********Testing set std: 33.96625982181027\\\n",
    "BloodPressure\\\n",
    "********Training set mean: 68.94965277777777\\\n",
    "********Testing set mean: 69.57291666666667\\\n",
    "********Training set std: 19.113006722286883\\\n",
    "********Testing set std: 20.110555584040394\\\n",
    "SkinThickness\\\n",
    "********Training set mean: 20.73263888888889\\\n",
    "********Testing set mean: 19.947916666666668\\\n",
    "********Training set std: 15.694852459319481\\\n",
    "********Testing set std: 16.729051003253563\\\n",
    "Insulin\\\n",
    "********Training set mean: 81.27256944444444\\\n",
    "********Testing set mean: 75.38020833333333\\\n",
    "********Training set std: 115.65762221613767\\\n",
    "********Testing set std: 114.17978027672036\\\n",
    "BMI\\\n",
    "********Training set mean: 32.01597222222222\\\n",
    "********Testing set mean: 31.922395833333336\\\n",
    "********Training set std: 8.12517644550144\\\n",
    "********Testing set std: 7.13182297466588\\\n",
    "DiabetesPedigreeFunction\\\n",
    "********Training set mean: 0.4719513888888889\\\n",
    "********Testing set mean: 0.47165104166666666\\\n",
    "********Training set std: 0.33581610557459124\\\n",
    "********Testing set std: 0.3183402606796537"
   ]
  },
  {
   "cell_type": "markdown",
   "metadata": {
    "id": "Lfwg_zbMO0OS"
   },
   "source": [
    "## Developing and documenting human insights with human interpretation on preprocessed data and possible effect on predictions.\n"
   ]
  },
  {
   "cell_type": "markdown",
   "metadata": {
    "id": "MAG-9fANb5WL"
   },
   "source": [
    "We already learned that data quality is essential and poor data quality is an unfolding disaster. Here, we only deal with small datasets and already see why data preprocessing takes so much time. We must eliminate missing data, unnecessary features, duplicate data, outliers, or inconsistencies. After cleaning the data, our dataset is smaller, more manageable for us to read, and easier for the model to process. Data preprocessing ensures that we and the model are working with accurate and reliable information, which can lead to more accurate predictions."
   ]
  }
 ],
 "metadata": {
  "anaconda-cloud": {},
  "colab": {
   "provenance": []
  },
  "kernelspec": {
   "display_name": "Python 3 (ipykernel)",
   "language": "python",
   "name": "python3"
  },
  "language_info": {
   "codemirror_mode": {
    "name": "ipython",
    "version": 3
   },
   "file_extension": ".py",
   "mimetype": "text/x-python",
   "name": "python",
   "nbconvert_exporter": "python",
   "pygments_lexer": "ipython3",
   "version": "3.10.13"
  },
  "vscode": {
   "interpreter": {
    "hash": "cea39816bfa6bd3c0a1f6664bad4835e3a909c2e2cb41a9f2c8a2752fd725301"
   }
  }
 },
 "nbformat": 4,
 "nbformat_minor": 1
}
